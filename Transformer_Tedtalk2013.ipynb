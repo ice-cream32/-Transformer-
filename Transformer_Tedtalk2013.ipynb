{
  "cells": [
    {
      "cell_type": "markdown",
      "metadata": {},
      "source": [
        "# 数据集说明"
      ]
    },
    {
      "cell_type": "markdown",
      "metadata": {},
      "source": [
        "数据来源：2013年的TED演讲，数据集大小（中英文）30MB。"
      ]
    },
    {
      "cell_type": "markdown",
      "metadata": {},
      "source": [
        " Corpus Name: TED2013\n",
        "     Package: TED2013 in Moses format\n",
        "     Website: http://opus.nlpl.eu/TED2013-v1.1.php\n",
        "     Release: v1.1\n",
        "Release date: Sun Mar  4 00:46:11 EET 2018\n",
        "\n",
        "This corpus is part of OPUS - the open collection of parallel corpora\n",
        "OPUS Website: http://opus.nlpl.eu\n",
        "\n",
        "Please cite the following article if you use any part of the corpus in your own work: J. Tiedemann, 2012, Parallel Data, Tools and Interfaces in OPUS. In Proceedings of the 8th International Conference on Language Resources and Evaluation (LREC 2012)\n",
        "\n",
        "A parallel corpus of TED talk subtitles provided by CASMACAT: http://www.casmacat.eu/corpus/ted2013.html. The files are originally provided by https://wit3.fbk.eu.\n"
      ]
    },
    {
      "cell_type": "markdown",
      "metadata": {
        "id": "-855Hwh9Lfvk"
      },
      "source": [
        "# 载入库"
      ]
    },
    {
      "cell_type": "code",
      "execution_count": 1,
      "metadata": {
        "id": "t7kEE1SxLapK"
      },
      "outputs": [],
      "source": [
        "import torch\n",
        "import torch.nn as nn\n",
        "import torch.optim as optim\n",
        "from torch.utils.data import Dataset, DataLoader, random_split\n",
        "import sentencepiece as spm\n",
        "import numpy as np\n",
        "import random\n",
        "import math\n",
        "import time\n",
        "import os\n",
        "import matplotlib.pyplot as plt\n",
        "from tqdm import tqdm\n",
        "import torch.nn.functional as F"
      ]
    },
    {
      "cell_type": "code",
      "execution_count": null,
      "metadata": {
        "id": "V4kWcp5ILiY6"
      },
      "outputs": [],
      "source": [
        "# 防止缓存不释放\n",
        "import gc\n",
        "gc.collect()\n",
        "torch.cuda.empty_cache()"
      ]
    },
    {
      "cell_type": "code",
      "execution_count": null,
      "metadata": {
        "colab": {
          "base_uri": "https://localhost:8080/",
          "height": 158
        },
        "id": "9foKeSJyLkFw",
        "outputId": "18050154-eaa9-4156-c105-bc25ac3e6c1e"
      },
      "outputs": [
        {
          "ename": "ModuleNotFoundError",
          "evalue": "No module named 'google.colab'",
          "output_type": "error",
          "traceback": [
            "\u001b[1;31m---------------------------------------------------------------------------\u001b[0m",
            "\u001b[1;31mModuleNotFoundError\u001b[0m                       Traceback (most recent call last)",
            "Cell \u001b[1;32mIn[1], line 1\u001b[0m\n\u001b[1;32m----> 1\u001b[0m \u001b[38;5;28;01mfrom\u001b[39;00m \u001b[38;5;21;01mgoogle\u001b[39;00m\u001b[38;5;21;01m.\u001b[39;00m\u001b[38;5;21;01mcolab\u001b[39;00m \u001b[38;5;28;01mimport\u001b[39;00m drive\n\u001b[0;32m      2\u001b[0m drive\u001b[38;5;241m.\u001b[39mmount(\u001b[38;5;124m'\u001b[39m\u001b[38;5;124m/content/drive\u001b[39m\u001b[38;5;124m'\u001b[39m)\n",
            "\u001b[1;31mModuleNotFoundError\u001b[0m: No module named 'google.colab'"
          ]
        }
      ],
      "source": [
        "from google.colab import drive\n",
        "drive.mount('/content/drive')"
      ]
    },
    {
      "cell_type": "markdown",
      "metadata": {
        "id": "MqgDmJGYLma_"
      },
      "source": [
        "# 数据读取"
      ]
    },
    {
      "cell_type": "code",
      "execution_count": 3,
      "metadata": {
        "id": "MA56yKysLm1J"
      },
      "outputs": [],
      "source": [
        "# 固定随机种子，保证可复现\n",
        "seed = 42\n",
        "random.seed(seed)\n",
        "np.random.seed(seed)\n",
        "torch.manual_seed(seed)\n",
        "torch.cuda.manual_seed_all(seed)\n",
        "\n",
        "# 读取并预处理数据\n",
        "def read_ted_data(zh_path: str, en_path: str):\n",
        "    with open(zh_path, encoding='utf-8') as f:\n",
        "        zh_lines = f.readlines()[1:]\n",
        "    with open(en_path, encoding='utf-8') as f:\n",
        "        en_lines = f.readlines()[1:]\n",
        "    if len(zh_lines) != len(en_lines):\n",
        "        raise ValueError(f\"中英文行数不一致：zh={len(zh_lines)}, en={len(en_lines)}\")\n",
        "    pairs = [(zh.strip(), en.strip())\n",
        "             for zh, en in zip(zh_lines, en_lines)\n",
        "             if zh.strip() and en.strip()]\n",
        "    zh_lines, en_lines = zip(*pairs)\n",
        "    return list(zh_lines), list(en_lines)"
      ]
    },
    {
      "cell_type": "code",
      "execution_count": 5,
      "metadata": {
        "colab": {
          "base_uri": "https://localhost:8080/"
        },
        "id": "UO3SMXaUMYVy",
        "outputId": "a501ab14-414a-4722-c239-a24312fd60a4"
      },
      "outputs": [
        {
          "name": "stdout",
          "output_type": "stream",
          "text": [
            "样本数: 154578\n"
          ]
        }
      ],
      "source": [
        "# 路径配置\n",
        "zh_path = \"TED2013.en-zh_zh.txt\"\n",
        "en_path = \"TED2013.en-zh_en.txt\"\n",
        "zh_sentences, en_sentences = read_ted_data(zh_path, en_path)\n",
        "print(f\"样本数: {len(zh_sentences)}\")"
      ]
    },
    {
      "cell_type": "markdown",
      "metadata": {
        "id": "k3W9B0kEMe7A"
      },
      "source": [
        "# 分词训练"
      ]
    },
    {
      "cell_type": "code",
      "execution_count": null,
      "metadata": {
        "id": "_iDaLOt1MYYb"
      },
      "outputs": [],
      "source": [
        "# 导出到文件并训练 SentencePiece\n",
        "with open(\"ted.zh\", \"w\", encoding=\"utf-8\") as f:\n",
        "    f.write(\"\\n\".join(zh_sentences))\n",
        "with open(\"ted.en\", \"w\", encoding=\"utf-8\") as f:\n",
        "    f.write(\"\\n\".join(en_sentences))\n",
        "\n",
        "spm.SentencePieceTrainer.Train(\n",
        "    input='ted.zh',                # 中文语料，每行一句\n",
        "    model_prefix='zh',             # zh前缀（输出为 zh.model 和 zh.vocab）\n",
        "    vocab_size=16000,              # 子词表大小\n",
        "    character_coverage=0.9995,     # 覆盖 99.95% 的字符\n",
        "    model_type='bpe',              # 使用 BPE 算法\n",
        "    input_sentence_size=1000000,   # 最多抽取 100 万句训练\n",
        "    shuffle_input_sentence=True    # 打乱输入语料\n",
        ")\n",
        "spm.SentencePieceTrainer.Train(\n",
        "    input='ted.en', \n",
        "    model_prefix='en',\n",
        "    vocab_size=16000, \n",
        "    character_coverage=1.0,\n",
        "    model_type='bpe',\n",
        "    input_sentence_size=1000000,\n",
        "    shuffle_input_sentence=True\n",
        ")\n",
        "\n",
        "sp_zh = spm.SentencePieceProcessor(model_file=\"zh.model\")\n",
        "sp_en = spm.SentencePieceProcessor(model_file=\"en.model\")"
      ]
    },
    {
      "cell_type": "code",
      "execution_count": null,
      "metadata": {
        "colab": {
          "base_uri": "https://localhost:8080/"
        },
        "id": "uoMpCXT4MYbG",
        "outputId": "87c2560c-5c40-4b59-995f-398e4d454819"
      },
      "outputs": [
        {
          "name": "stdout",
          "output_type": "stream",
          "text": [
            "中文 BOS ID: 1 EOS ID: 2 UNK ID: 0\n",
            "英文 BOS ID: 1 EOS ID: 2 UNK ID: 0\n",
            "中文词表大小: 16000\n",
            "英文词表大小: 16000\n"
          ]
        }
      ],
      "source": [
        "# 打印 SentencePiece 模型里的特殊 id\n",
        "print(\"中文 BOS ID:\", sp_zh.bos_id(), \"EOS ID:\", sp_zh.eos_id(), \"UNK ID:\", sp_zh.unk_id())\n",
        "print(\"英文 BOS ID:\", sp_en.bos_id(), \"EOS ID:\", sp_en.eos_id(), \"UNK ID:\", sp_en.unk_id())\n",
        "print(\"中文词表大小:\", sp_zh.GetPieceSize())\n",
        "print(\"英文词表大小:\", sp_en.GetPieceSize())"
      ]
    },
    {
      "cell_type": "code",
      "execution_count": null,
      "metadata": {
        "colab": {
          "base_uri": "https://localhost:8080/"
        },
        "id": "RXC5HtpwMYdk",
        "outputId": "722a48f8-ab91-4c67-ff45-4112981bd296"
      },
      "outputs": [
        {
          "name": "stdout",
          "output_type": "stream",
          "text": [
            "原文: 今天天气很好，我们去郊游吧。\n",
            "IDs: [893, 5113, 841, 12441, 8602, 14399, 12953, 12846, 12443]\n",
            "解码: 今天天气很好,我们去郊游吧。\n",
            "\n",
            "原文: This is a test sentence.\n",
            "IDs: [1268, 12533, 262, 1437, 9703, 12439, 76, 2408, 8476, 110, 9136, 459, 12503]\n",
            "解码: This is a test sentence.\n",
            "\n",
            "原文: 含有罕见字符：🤔🔥💯\n",
            "IDs: [12439, 5859, 14110, 12778, 12315, 12524, 0]\n",
            "解码: 含有罕见字符: ⁇ \n",
            "\n"
          ]
        }
      ],
      "source": [
        "# 检查编码—解码一致性\n",
        "def test_roundtrip(sp, text):\n",
        "    ids = sp.EncodeAsIds(text)\n",
        "    text2 = sp.DecodeIds(ids)\n",
        "    return text, ids[:20], text2[:len(text)]  # 限制输出长度\n",
        "\n",
        "samples = [\n",
        "    \"今天天气很好，我们去郊游吧。\",\n",
        "    \"This is a test sentence.\",\n",
        "    \"含有罕见字符：🤔🔥💯\"\n",
        "]\n",
        "\n",
        "for s in samples:\n",
        "    orig, ids, dec = test_roundtrip(sp_zh, s)\n",
        "    print(f\"原文: {orig}\\nIDs: {ids}\\n解码: {dec}\\n\")\n"
      ]
    },
    {
      "cell_type": "code",
      "execution_count": null,
      "metadata": {
        "colab": {
          "base_uri": "https://localhost:8080/"
        },
        "id": "n1H1mCjxMYgJ",
        "outputId": "eb8a426c-315c-44fa-a91d-9b23ac6fae96"
      },
      "outputs": [
        {
          "name": "stdout",
          "output_type": "stream",
          "text": [
            "中文总 token 数: 2651882, UNK 数: 2282, UNK 比例: 0.09%\n",
            "英文总 token 数: 6020150, UNK 数: 2282, UNK 比例: 0.04%\n"
          ]
        }
      ],
      "source": [
        "# 未知 token（UNK） 统计\n",
        "unk_id = sp_zh.unk_id()\n",
        "total_tokens = 0\n",
        "unk_count = 0\n",
        "\n",
        "for line in zh_sentences:\n",
        "    ids = sp_zh.EncodeAsIds(line)\n",
        "    total_tokens += len(ids)\n",
        "    unk_count += sum(1 for i in ids if i == unk_id)\n",
        "\n",
        "print(f\"中文总 token 数: {total_tokens}, UNK 数: {unk_count}, UNK 比例: {unk_count/total_tokens:.2%}\")\n",
        "\n",
        "for line in en_sentences:\n",
        "    ids = sp_en.EncodeAsIds(line)\n",
        "    total_tokens += len(ids)\n",
        "    unk_count += sum(1 for i in ids if i == unk_id)\n",
        "\n",
        "print(f\"英文总 token 数: {total_tokens}, UNK 数: {unk_count}, UNK 比例: {unk_count/total_tokens:.2%}\")"
      ]
    },
    {
      "cell_type": "code",
      "execution_count": null,
      "metadata": {
        "colab": {
          "base_uri": "https://localhost:8080/"
        },
        "id": "GsfFUtvkMYiZ",
        "outputId": "0993b3dc-1c62-4313-d55a-c408e3fe45ec"
      },
      "outputs": [
        {
          "name": "stdout",
          "output_type": "stream",
          "text": [
            "中文 token 序列长度： min 1 mean 17.15562369806829 max 590\n",
            "英文 token 序列长度： min 1 mean 21.79008655824244 max 816\n"
          ]
        }
      ],
      "source": [
        "# 长度／分布异常分析\n",
        "lengths = [len(sp_zh.EncodeAsIds(line)) for line in zh_sentences]\n",
        "print(\"中文 token 序列长度：\", \"min\", np.min(lengths), \"mean\", np.mean(lengths), \"max\", np.max(lengths))\n",
        "\n",
        "lengths = [len(sp_en.EncodeAsIds(line)) for line in en_sentences]\n",
        "print(\"英文 token 序列长度：\", \"min\", np.min(lengths), \"mean\", np.mean(lengths), \"max\", np.max(lengths))"
      ]
    },
    {
      "cell_type": "code",
      "execution_count": null,
      "metadata": {
        "colab": {
          "base_uri": "https://localhost:8080/"
        },
        "id": "KhevbnNqLm3J",
        "outputId": "7acc9085-f24f-4ea2-81e4-ffdc712d9b4e"
      },
      "outputs": [
        {
          "name": "stdout",
          "output_type": "stream",
          "text": [
            "生物学家史蒂芬·帕伦认为，海洋的健康和我们的健康之间有着紧密而神奇的联系。他通过日本一个渔场发生的让人震惊的有毒污染的事件，展示了位于海洋食物链底部的有毒物质是如何进入我们的身体的。他的工作主要是未来拯救海洋健康的方法——同时也包括人类的。\n",
            "Tokens: ['▁', '生物学家', '史蒂芬', '·', '帕', '伦', '认为', ',', '海洋的', '健康和', '我们的', '健康', '之间', '有着', '紧密', '而', '神奇的', '联系', '。', '他', '通过', '日本', '一个', '渔', '场', '发生的', '让人', '震惊', '的', '有毒', '污染', '的事件', ',', '展示了', '位于', '海洋', '食物链', '底', '部的', '有毒', '物质', '是如何', '进入', '我们的', '身体的', '。', '他的', '工作', '主要是', '未来', '拯救', '海洋', '健康', '的方法', '——', '同时也', '包括', '人类的', '。']\n",
            "\n",
            "fish,health,mission blue,oceans,science\n",
            "Tokens: ['▁', 'f', 'ish', ',', 'health', ',', 'm', 'iss', 'ion', '▁b', 'l', 'ue', ',', 'oceans', ',', 'science']\n",
            "\n",
            "899\n",
            "Tokens: ['▁8', '99']\n",
            "\n",
            "史蒂芬·帕伦：追寻水银的踪迹\n",
            "Tokens: ['▁', '史蒂芬', '·', '帕', '伦', ':', '追寻', '水', '银', '的', '踪', '迹']\n",
            "\n",
            "海洋是一个非常复杂的事物。\n",
            "Tokens: ['▁海洋', '是一个非常', '复杂', '的事物', '。']\n",
            "\n"
          ]
        }
      ],
      "source": [
        "for line in zh_sentences[:5]:\n",
        "    ids = sp_zh.EncodeAsPieces(line)  # 返回 piece 字符串列表\n",
        "    print(line)\n",
        "    print(\"Tokens:\", ids)\n",
        "    print()"
      ]
    },
    {
      "cell_type": "code",
      "execution_count": null,
      "metadata": {
        "colab": {
          "base_uri": "https://localhost:8080/"
        },
        "id": "vnunI8yTMmJS",
        "outputId": "6a0037a4-1b86-4eb7-cc78-b8c1a9d796d4"
      },
      "outputs": [
        {
          "name": "stdout",
          "output_type": "stream",
          "text": [
            "There's a tight and surprising link between the ocean's health and ours, says marine biologist Stephen Palumbi. He shows how toxins at the bottom of the ocean food chain find their way into our bodies, with a shocking story of toxic contamination from a Japanese fish market. His work points a way forward for saving the oceans' health -- and humanity's.\n",
            "Tokens: ['▁There', \"'\", 's', '▁a', '▁tight', '▁and', '▁surprising', '▁link', '▁between', '▁the', '▁ocean', \"'\", 's', '▁health', '▁and', '▁ours', ',', '▁says', '▁marine', '▁biologist', '▁Stephen', '▁Pal', 'umb', 'i', '.', '▁He', '▁shows', '▁how', '▁toxins', '▁at', '▁the', '▁bottom', '▁of', '▁the', '▁ocean', '▁food', '▁chain', '▁find', '▁their', '▁way', '▁into', '▁our', '▁bodies', ',', '▁with', '▁a', '▁shocking', '▁story', '▁of', '▁toxic', '▁contam', 'ination', '▁from', '▁a', '▁Japanese', '▁fish', '▁market', '.', '▁His', '▁work', '▁points', '▁a', '▁way', '▁forward', '▁for', '▁saving', '▁the', '▁oceans', \"'\", '▁health', '▁--', '▁and', '▁humanity', \"'\", 's', '.']\n",
            "\n",
            "fish,health,mission blue,oceans,science\n",
            "Tokens: ['▁fish', ',', 'health', ',', 'mission', '▁blue', ',', 'oceans', ',', 'science']\n",
            "\n",
            "899\n",
            "Tokens: ['▁8', '99']\n",
            "\n",
            "Stephen Palumbi: Following the mercury trail\n",
            "Tokens: ['▁Stephen', '▁Pal', 'umb', 'i', ':', '▁F', 'o', 'llow', 'ing', '▁the', '▁merc', 'ury', '▁trail']\n",
            "\n",
            "It can be a very complicated thing, the ocean.\n",
            "Tokens: ['▁It', '▁can', '▁be', '▁a', '▁very', '▁complicated', '▁thing', ',', '▁the', '▁ocean', '.']\n",
            "\n"
          ]
        }
      ],
      "source": [
        "for line in en_sentences[:5]:\n",
        "    ids = sp_en.EncodeAsPieces(line)  # 返回 piece 字符串列表\n",
        "    print(line)\n",
        "    print(\"Tokens:\", ids)\n",
        "    print()"
      ]
    },
    {
      "cell_type": "code",
      "execution_count": null,
      "metadata": {
        "colab": {
          "base_uri": "https://localhost:8080/"
        },
        "id": "pI-rJPEsMmL2",
        "outputId": "f3d1c554-4f90-48d8-c642-ba4e5af0eff9"
      },
      "outputs": [
        {
          "name": "stdout",
          "output_type": "stream",
          "text": [
            "Chinese sentence length percentiles:\n",
            "  90% of sentences <= 33 tokens\n",
            "  95% of sentences <= 41 tokens\n",
            "  99% of sentences <= 62 tokens\n",
            "English sentence length percentiles:\n",
            "  90% of sentences <= 41 tokens\n",
            "  95% of sentences <= 50 tokens\n",
            "  99% of sentences <= 74 tokens\n"
          ]
        }
      ],
      "source": [
        "def print_length_percentiles(lines, sp, language_name=\"src\"):\n",
        "    lengths = [len(sp.EncodeAsIds(line)) for line in lines]\n",
        "    p90, p95, p99 = np.percentile(lengths, [90, 95, 99])\n",
        "    print(f\"{language_name} sentence length percentiles:\")\n",
        "    print(f\"  90% of sentences <= {p90:.0f} tokens\")\n",
        "    print(f\"  95% of sentences <= {p95:.0f} tokens\")\n",
        "    print(f\"  99% of sentences <= {p99:.0f} tokens\")\n",
        "\n",
        "print_length_percentiles(zh_sentences, sp_zh, \"Chinese\")\n",
        "print_length_percentiles(en_sentences, sp_en, \"English\")"
      ]
    },
    {
      "cell_type": "code",
      "execution_count": null,
      "metadata": {
        "colab": {
          "base_uri": "https://localhost:8080/",
          "height": 957
        },
        "id": "CSkKjBVSMmOa",
        "outputId": "3056888a-8e29-429f-f760-d7e48e288760"
      },
      "outputs": [
        {
          "data": {
            "image/png": "[encoded data removed]",
            "text/plain": [
              "<Figure size 800x500 with 1 Axes>"
            ]
          },
          "metadata": {},
          "output_type": "display_data"
        },
        {
          "data": {
            "image/png": "[encoded data removed]",
            "text/plain": [
              "<Figure size 800x500 with 1 Axes>"
            ]
          },
          "metadata": {},
          "output_type": "display_data"
        }
      ],
      "source": [
        "def plot_length_histogram(lines, sp, language_name=\"src\", bins=50):\n",
        "    lengths = [len(sp.EncodeAsIds(line)) for line in lines]\n",
        "    plt.figure(figsize=(8,5))\n",
        "    plt.hist(lengths, bins=bins, color='skyblue', edgecolor='black')\n",
        "    plt.title(f'{language_name} Sentence Length Distribution')\n",
        "    plt.xlabel('Sentence Length (tokens)')\n",
        "    plt.ylabel('Number of Sentences')\n",
        "    plt.xlim(0, 150)\n",
        "    plt.grid(True, linestyle='--', alpha=0.5)\n",
        "    plt.show()\n",
        "\n",
        "plot_length_histogram(zh_sentences, sp_zh, \"Chinese\")\n",
        "plot_length_histogram(en_sentences, sp_en, \"English\")"
      ]
    },
    {
      "cell_type": "markdown",
      "metadata": {
        "id": "16unc-suMuep"
      },
      "source": [
        "# 创建训练集"
      ]
    },
    {
      "cell_type": "code",
      "execution_count": null,
      "metadata": {
        "id": "Vw3CycLKMmQ4"
      },
      "outputs": [],
      "source": [
        "MAX_LEN = 60  # 设定源和目标序列的最大长度\n",
        "\n",
        "class TranslationDataset(Dataset):  # 继承 PyTorch 的 Dataset 类\n",
        "    def __init__(self, src_lines, tgt_lines, sp_src, sp_tgt, max_len=MAX_LEN):\n",
        "        \"\"\"\n",
        "        初始化数据集\n",
        "        :param src_lines: 源语言句子列表（中文）\n",
        "        :param tgt_lines: 目标语言句子列表（英文）\n",
        "        :param sp_src: 源语言的 SentencePiece 分词器\n",
        "        :param sp_tgt: 目标语言的 SentencePiece 分词器\n",
        "        :param max_len: 最大句子长度（默认60）\n",
        "        \"\"\"\n",
        "        self.src_lines = src_lines\n",
        "        self.tgt_lines = tgt_lines\n",
        "        self.sp_src = sp_src\n",
        "        self.sp_tgt = sp_tgt\n",
        "        self.max_len = max_len\n",
        "\n",
        "    def __len__(self):\n",
        "        # 返回数据集中样本的数量\n",
        "        return len(self.src_lines)\n",
        "\n",
        "    def __getitem__(self, idx):\n",
        "        \"\"\"\n",
        "        获取第 idx 个样本，并将其转换为定长的 token id 序列\n",
        "        :return: 一个字典，包含 \"src_ids\" 和 \"tgt_ids\"，都是张量\n",
        "        \"\"\"\n",
        "        # 将源语言句子编码成 token ids，截断至 max_len-2 是为了给句子起始符和句子结束符留空间\n",
        "        src_ids = self.sp_src.EncodeAsIds(self.src_lines[idx])[:self.max_len - 2]\n",
        "        # 同理，编码目标语言句子\n",
        "        tgt_ids = self.sp_tgt.EncodeAsIds(self.tgt_lines[idx])[:self.max_len - 2]\n",
        "\n",
        "        # 添加 BOS（句子起始符）和 EOS（句子结束符）\n",
        "        src = [self.sp_src.bos_id()] + src_ids + [self.sp_src.eos_id()]\n",
        "        tgt = [self.sp_tgt.bos_id()] + tgt_ids + [self.sp_tgt.eos_id()]\n",
        "\n",
        "        # 用 0（表示 <PAD>）进行填充，使长度达到 max_len\n",
        "        src += [0] * (self.max_len - len(src))\n",
        "        tgt += [0] * (self.max_len - len(tgt))\n",
        "\n",
        "        return {\n",
        "            \"src_ids\": torch.tensor(src, dtype=torch.long),  # 源语言 token id 序列\n",
        "            \"tgt_ids\": torch.tensor(tgt, dtype=torch.long)   # 目标语言 token id 序列\n",
        "        }\n"
      ]
    },
    {
      "cell_type": "code",
      "execution_count": null,
      "metadata": {
        "colab": {
          "base_uri": "https://localhost:8080/"
        },
        "id": "1VIguFz_MmTF",
        "outputId": "5fb64074-4e60-44e6-d547-8db79310b2f4"
      },
      "outputs": [
        {
          "name": "stderr",
          "output_type": "stream",
          "text": [
            "/usr/local/lib/python3.11/dist-packages/torch/utils/data/dataloader.py:624: UserWarning: This DataLoader will create 12 worker processes in total. Our suggested max number of worker in current system is 2, which is smaller than what this DataLoader is going to create. Please be aware that excessive worker creation might get DataLoader running slow or even freeze, lower the worker number to avoid potential slowness/freeze if necessary.\n",
            "  warnings.warn(\n"
          ]
        }
      ],
      "source": [
        "dataset = TranslationDataset(zh_sentences, en_sentences, sp_zh, sp_en)\n",
        "train_size = int(len(dataset) * 0.9) # 90%训练集\n",
        "valid_size = len(dataset) - train_size # 10%验证集\n",
        "train_dataset, valid_dataset = random_split(dataset, [train_size, valid_size])\n",
        "train_loader = DataLoader(train_dataset, batch_size=256, shuffle=True, num_workers=12)\n",
        "valid_loader = DataLoader(valid_dataset, batch_size=256, num_workers=12)"
      ]
    },
    {
      "cell_type": "markdown",
      "metadata": {
        "id": "e3HrNeZ3M0M8"
      },
      "source": [
        "# Transformer模型搭建"
      ]
    },
    {
      "cell_type": "markdown",
      "metadata": {},
      "source": [
        "## 位置编码\n",
        "\n",
        "$$\n",
        "\\begin{aligned}\n",
        "PE_{(pos,\\ 2i)}   &= \\sin\\left( \\frac{pos}{10000^{2i/d_{\\text{model}}}} \\right) \\\\\n",
        "\\\\\n",
        "PE_{(pos,\\ 2i+1)} &= \\cos\\left( \\frac{pos}{10000^{2i/d_{\\text{model}}}} \\right)\n",
        "\\end{aligned}\n",
        "$$"
      ]
    },
    {
      "cell_type": "code",
      "execution_count": null,
      "metadata": {
        "id": "d2HPuZfcMzXN"
      },
      "outputs": [],
      "source": [
        "class PositionalEncoding(nn.Module):\n",
        "    def __init__(self, d_model, max_len=5000): # d_model: 表示 token 的嵌入维度；max_len: 允许的位置编码的最大长度\n",
        "        super().__init__()\n",
        "        pe = torch.zeros(max_len, d_model) # 创建 [max_len, d_model] 的空位置编码矩阵\n",
        "        position = torch.arange(0, max_len).unsqueeze(1).float() # 生成 [max_len, 1] 的位置索引：0~max_len-1\n",
        "        div_term = torch.exp(torch.arange(0, d_model, 2).float() * (-math.log(10000.0) / d_model)) # 控制不同维度的频率变化，shape: [d_model/2]\n",
        "        pe[:, 0::2] = torch.sin(position * div_term) # 偶数位置用 sin\n",
        "        pe[:, 1::2] = torch.cos(position * div_term) # 奇数位置用 cos\n",
        "        pe = pe.unsqueeze(0)  # [1, max_len, d_model]\n",
        "        self.register_buffer(\"pe\", pe)\n",
        "\n",
        "    def forward(self, x):\n",
        "        x = x + self.pe[:, :x.size(1)] # 将前 len(x) 的位置编码加到 x 上\n",
        "        return x\n"
      ]
    },
    {
      "cell_type": "markdown",
      "metadata": {},
      "source": [
        "## 定义Transformer 模型类"
      ]
    },
    {
      "cell_type": "code",
      "execution_count": null,
      "metadata": {
        "id": "dmqi3vo-MmVR"
      },
      "outputs": [],
      "source": [
        "class TransformerModel(nn.Module):\n",
        "    def __init__(self, src_vocab_size, tgt_vocab_size,\n",
        "                 d_model=512, nhead=8,\n",
        "                 num_encoder_layers=6, num_decoder_layers=6,\n",
        "                 dim_feedforward=2048, dropout=0.1):\n",
        "        super().__init__()\n",
        "\n",
        "        # 词嵌入层：将 token id 映射为向量，padding_idx=0 表示忽略 PAD\n",
        "        self.src_embedding = nn.Embedding(src_vocab_size, d_model, padding_idx=0)\n",
        "        self.tgt_embedding = nn.Embedding(tgt_vocab_size, d_model, padding_idx=0)\n",
        "\n",
        "        # 位置编码：添加序列位置信息\n",
        "        self.pos_encoder = PositionalEncoding(d_model)\n",
        "        self.pos_decoder = PositionalEncoding(d_model)\n",
        "\n",
        "        # Transformer 编码器+解码器主体\n",
        "        self.transformer = nn.Transformer(\n",
        "            d_model=d_model,\n",
        "            nhead=nhead,\n",
        "            num_encoder_layers=num_encoder_layers,\n",
        "            num_decoder_layers=num_decoder_layers,\n",
        "            dim_feedforward=dim_feedforward,\n",
        "            dropout=dropout\n",
        "        )\n",
        "\n",
        "        # 输出层：将 transformer 输出映射为目标词表大小的 logits\n",
        "        self.fc_out = nn.Linear(d_model, tgt_vocab_size)\n",
        "\n",
        "        # 保存 d_model，用于缩放 embedding\n",
        "        self.d_model = d_model\n",
        "\n",
        "    def forward(self, src, tgt):\n",
        "        \"\"\"\n",
        "        前向传播：\n",
        "        src, tgt: [batch_size, seq_len]，输入和输出的 token ID 序列\n",
        "        \"\"\"\n",
        "        # 构造 mask\n",
        "        src_mask = self._generate_padding_mask(src)  # [batch_size, src_len]\n",
        "        tgt_mask = self._generate_square_subsequent_mask(tgt.size(1)).to(tgt.device)  # [tgt_len, tgt_len]\n",
        "        tgt_padding_mask = self._generate_padding_mask(tgt)  # [batch_size, tgt_len]\n",
        "\n",
        "        # 词嵌入 + 位置编码，并乘以 √d_model\n",
        "        src_emb = self.pos_encoder(self.src_embedding(src) * math.sqrt(self.d_model))  # [batch, src_len, d_model]\n",
        "        tgt_emb = self.pos_decoder(self.tgt_embedding(tgt) * math.sqrt(self.d_model))  # [batch, tgt_len, d_model]\n",
        "\n",
        "        # 调整为 [seq_len, batch, d_model] 以符合 PyTorch Transformer API\n",
        "        src_emb = src_emb.transpose(0, 1)\n",
        "        tgt_emb = tgt_emb.transpose(0, 1)\n",
        "\n",
        "        # 输入 transformer 模型\n",
        "        output = self.transformer(\n",
        "            src_emb, tgt_emb,\n",
        "            src_key_padding_mask=src_mask,          # 忽略 src 中的 PAD token\n",
        "            tgt_mask=tgt_mask,                      # 强制自回归（防止看到后面的词）\n",
        "            tgt_key_padding_mask=tgt_padding_mask   # 忽略 tgt 中的 PAD token\n",
        "        )\n",
        "\n",
        "        # 输出维度从 [seq_len, batch, d_model] → [seq_len, batch, vocab_size]\n",
        "        output = self.fc_out(output)\n",
        "\n",
        "        # 转回 [batch, seq_len, vocab_size] 以便后续 loss 或 softmax\n",
        "        return output.transpose(0, 1)\n",
        "\n",
        "    def _generate_square_subsequent_mask(self, sz):\n",
        "        \"\"\"\n",
        "        生成解码器的上三角 mask，防止模型看到未来的信息（自回归）\n",
        "        结果是 [sz, sz] 的矩阵，下三角为 0，上三角为 -inf\n",
        "        \"\"\"\n",
        "        mask = torch.triu(torch.ones(sz, sz) * float('-inf'), diagonal=1)\n",
        "        return mask\n",
        "\n",
        "    def _generate_padding_mask(self, seq):\n",
        "        \"\"\"\n",
        "        为源或目标序列生成 padding mask\n",
        "        输入: [batch_size, seq_len]\n",
        "        输出: [batch_size, seq_len]（True 表示是 PAD，需要 mask 掉）\n",
        "        \"\"\"\n",
        "        return (seq == 0)\n"
      ]
    },
    {
      "cell_type": "markdown",
      "metadata": {
        "id": "EpbAlTOBNNo8"
      },
      "source": [
        "# Label smoothing 损失函数"
      ]
    },
    {
      "cell_type": "code",
      "execution_count": 10,
      "metadata": {
        "id": "xKk7OHV1Mx4H"
      },
      "outputs": [],
      "source": [
        "def label_smoothed_nll_loss(logits, target, eps=0.1, ignore_index=0):\n",
        "    n_class = logits.size(-1)\n",
        "    log_probs = F.log_softmax(logits, dim=-1)\n",
        "    loss = -log_probs.gather(dim=-1, index=target.unsqueeze(-1)).squeeze(-1)\n",
        "    smooth_loss = -log_probs.mean(dim=-1)\n",
        "\n",
        "    mask = target != ignore_index\n",
        "    loss = loss[mask]\n",
        "    smooth_loss = smooth_loss[mask]\n",
        "\n",
        "    return (1.0 - eps) * loss.mean() + eps * smooth_loss.mean()\n"
      ]
    },
    {
      "cell_type": "markdown",
      "metadata": {
        "id": "D5I7l1GINR95"
      },
      "source": [
        "# Noam学习率调度器"
      ]
    },
    {
      "cell_type": "code",
      "execution_count": 11,
      "metadata": {
        "id": "NreI_R5cMx6v"
      },
      "outputs": [],
      "source": [
        "class NoamScheduler:\n",
        "    def __init__(self, optimizer, d_model, warmup_steps=4000):\n",
        "        self.optimizer = optimizer\n",
        "        self.d_model = d_model\n",
        "        self.warmup_steps = warmup_steps\n",
        "        self._step = 0\n",
        "\n",
        "    def step(self):\n",
        "        self._step += 1\n",
        "        lr = self.d_model ** (-0.5) * min(self._step ** (-0.5), self._step * self.warmup_steps ** (-1.5))\n",
        "        for param_group in self.optimizer.param_groups:\n",
        "            param_group['lr'] = lr\n",
        "        return lr\n"
      ]
    },
    {
      "cell_type": "markdown",
      "metadata": {
        "id": "fMsjCdyoNUY7"
      },
      "source": [
        "# 训练函数"
      ]
    },
    {
      "cell_type": "code",
      "execution_count": null,
      "metadata": {
        "id": "DIpocIxNMx9b"
      },
      "outputs": [],
      "source": [
        "def evaluate_model(model, dataloader, criterion, device='cuda'):\n",
        "    model.eval()  # 设置为评估模式\n",
        "\n",
        "    total_loss = 0     # 累积总损失\n",
        "    correct = 0        # 预测正确的 token 数\n",
        "    total = 0          # 有效（非 PAD）token 总数\n",
        "\n",
        "    with torch.no_grad():  # 评估过程中不计算梯度，节省显存\n",
        "        for batch in dataloader:\n",
        "            # 从 batch 中取出源语言和目标语言的 token 序列\n",
        "            src = batch[\"src_ids\"].to(device)  # [batch_size, src_len]\n",
        "            tgt = batch[\"tgt_ids\"].to(device)  # [batch_size, tgt_len]\n",
        "\n",
        "            # 解码器输入是去掉最后一个 token 的目标序列\n",
        "            tgt_input = tgt[:, :-1]  # [batch_size, tgt_len - 1]\n",
        "            # 解码器预测的目标是下一个 token，即从第一个 token 开始\n",
        "            tgt_output = tgt[:, 1:]  # [batch_size, tgt_len - 1]\n",
        "\n",
        "            # 模型输出 logits（未归一化得分）\n",
        "            logits = model(src, tgt_input)  # [batch_size, tgt_len - 1, vocab_size]\n",
        "            # 将 logits 和目标展平成二维，用于计算损失\n",
        "            logits = logits.reshape(-1, logits.size(-1))         # [batch * tgt_len, vocab_size]\n",
        "            tgt_output = tgt_output.reshape(-1)                  # [batch * tgt_len]\n",
        "\n",
        "            # 计算损失\n",
        "            loss = criterion(logits, tgt_output)\n",
        "\n",
        "            total_loss += loss.item()  # 累积损失\n",
        "\n",
        "            # 预测类别：取 logit 最大值对应的词 ID\n",
        "            preds = logits.argmax(dim=-1)  # [batch * tgt_len]\n",
        "\n",
        "            # 创建 mask，忽略 PAD token 的位置（通常 PAD = 0）\n",
        "            mask = tgt_output != 0  # [batch * tgt_len]\n",
        "\n",
        "            # 统计预测正确的 token 数\n",
        "            correct += (preds == tgt_output)[mask].sum().item()\n",
        "            # 统计非 PAD 的 token 总数\n",
        "            total += mask.sum().item()\n",
        "\n",
        "    # 平均损失 = 总损失 / batch 数\n",
        "    avg_loss = total_loss / len(dataloader)\n",
        "\n",
        "    # 精度 = 正确预测的 token 数 / 有效 token 总数\n",
        "    accuracy = correct / total if total > 0 else 0\n",
        "\n",
        "    return avg_loss, accuracy\n"
      ]
    },
    {
      "cell_type": "code",
      "execution_count": null,
      "metadata": {
        "id": "YN86edB7MyAD"
      },
      "outputs": [],
      "source": [
        "def train_model(model, train_loader, valid_loader, optimizer, criterion, scheduler, epochs=30, device='cuda'):\n",
        "    import warnings\n",
        "    warnings.filterwarnings(\"ignore\")  # 忽略警告\n",
        "\n",
        "    model.train()  # 设置模型为训练模式\n",
        "\n",
        "    # 用于记录每轮训练/验证的损失和精度\n",
        "    train_loss_history = []\n",
        "    train_acc_history = []\n",
        "    valid_loss_history = []\n",
        "    valid_acc_history = []\n",
        "\n",
        "    for epoch in range(epochs):\n",
        "        model.train()  # 每轮开始前确保处于训练模式\n",
        "        epoch_loss = 0  # 当前 epoch 的损失累计\n",
        "        correct = 0     # 当前 epoch 中预测正确的 token 数\n",
        "        total = 0       # 当前 epoch 中所有非 PAD 的 token 数\n",
        "\n",
        "        # === 遍历训练数据 ===\n",
        "        for batch in tqdm(train_loader, desc=f\"Epoch {epoch+1}/{epochs}\", leave=False):\n",
        "            src = batch[\"src_ids\"].to(device)  # 源语言输入序列\n",
        "            tgt = batch[\"tgt_ids\"].to(device)  # 目标语言输出序列\n",
        "\n",
        "            # 解码器输入和目标：错位一位（teacher forcing）\n",
        "            tgt_input = tgt[:, :-1]   # 去掉末尾 token（输入）\n",
        "            tgt_output = tgt[:, 1:]   # 去掉起始 token（目标）\n",
        "\n",
        "            # 前向传播：获取 logits 结果\n",
        "            logits = model(src, tgt_input)  # 输出 [batch_size, tgt_len-1, vocab_size]\n",
        "            logits = logits.reshape(-1, logits.size(-1))      # 展平成 [batch * tgt_len, vocab_size]\n",
        "            tgt_output = tgt_output.reshape(-1)               # 展平成 [batch * tgt_len]\n",
        "\n",
        "            # 计算损失\n",
        "            loss = criterion(logits, tgt_output)\n",
        "\n",
        "            # 反向传播与参数更新\n",
        "            optimizer.zero_grad()\n",
        "            loss.backward()\n",
        "            optimizer.step()\n",
        "            scheduler.step()  # 更新学习率（Noam）\n",
        "\n",
        "            # 记录损失\n",
        "            epoch_loss += loss.item()\n",
        "\n",
        "            # 预测 token 并计算准确率\n",
        "            preds = logits.argmax(dim=-1)           # [batch * tgt_len]\n",
        "            mask = tgt_output != 0                  # 忽略 PAD 部分\n",
        "            correct += (preds == tgt_output)[mask].sum().item()\n",
        "            total += mask.sum().item()\n",
        "\n",
        "        # 计算当前 epoch 的训练平均损失和准确率\n",
        "        train_avg_loss = epoch_loss / len(train_loader)\n",
        "        train_acc = correct / total if total > 0 else 0\n",
        "\n",
        "        # 保存训练集结果\n",
        "        train_loss_history.append(train_avg_loss)\n",
        "        train_acc_history.append(train_acc)\n",
        "\n",
        "        # === 在验证集上评估当前模型性能 ===\n",
        "        valid_loss, valid_acc = evaluate_model(model, valid_loader, criterion, device)\n",
        "        valid_loss_history.append(valid_loss)\n",
        "        valid_acc_history.append(valid_acc)\n",
        "\n",
        "        # 打印当前 epoch 的训练和验证结果\n",
        "        print(f\"Epoch {epoch+1}/{epochs} \"\n",
        "              f\"Train Loss: {train_avg_loss:.4f} | Train Acc: {train_acc:.4f} || \"\n",
        "              f\"Valid Loss: {valid_loss:.4f} | Valid Acc: {valid_acc:.4f}\")\n",
        "\n",
        "    # 返回每轮的训练/验证损失和精度历史\n",
        "    return train_loss_history, train_acc_history, valid_loss_history, valid_acc_history\n"
      ]
    },
    {
      "cell_type": "markdown",
      "metadata": {
        "id": "IcxoCpvaNeqL"
      },
      "source": [
        "# 模型训练与评估"
      ]
    },
    {
      "cell_type": "code",
      "execution_count": null,
      "metadata": {
        "id": "i596Xrl3MyCg"
      },
      "outputs": [],
      "source": [
        "import warnings\n",
        "warnings.filterwarnings(\"ignore\")\n",
        "import time"
      ]
    },
    {
      "cell_type": "code",
      "execution_count": null,
      "metadata": {
        "colab": {
          "base_uri": "https://localhost:8080/",
          "height": 1000
        },
        "id": "DSoTKIPMMyE4",
        "outputId": "49bbbd02-15a9-4be9-e2a7-9acd9d166d91"
      },
      "outputs": [
        {
          "name": "stderr",
          "output_type": "stream",
          "text": []
        },
        {
          "name": "stdout",
          "output_type": "stream",
          "text": [
            "Epoch 1/50 Train Loss: 6.9779 | Train Acc: 0.1495 || Valid Loss: 5.9310 | Valid Acc: 0.2248\n"
          ]
        },
        {
          "name": "stderr",
          "output_type": "stream",
          "text": []
        },
        {
          "name": "stdout",
          "output_type": "stream",
          "text": [
            "Epoch 2/50 Train Loss: 5.7215 | Train Acc: 0.2396 || Valid Loss: 5.4751 | Valid Acc: 0.2614\n"
          ]
        },
        {
          "name": "stderr",
          "output_type": "stream",
          "text": []
        },
        {
          "name": "stdout",
          "output_type": "stream",
          "text": [
            "Epoch 3/50 Train Loss: 5.3783 | Train Acc: 0.2670 || Valid Loss: 5.2101 | Valid Acc: 0.2854\n"
          ]
        },
        {
          "name": "stderr",
          "output_type": "stream",
          "text": []
        },
        {
          "name": "stdout",
          "output_type": "stream",
          "text": [
            "Epoch 4/50 Train Loss: 5.1271 | Train Acc: 0.2890 || Valid Loss: 5.0017 | Valid Acc: 0.3052\n"
          ]
        },
        {
          "name": "stderr",
          "output_type": "stream",
          "text": []
        },
        {
          "name": "stdout",
          "output_type": "stream",
          "text": [
            "Epoch 5/50 Train Loss: 4.9029 | Train Acc: 0.3092 || Valid Loss: 4.8296 | Valid Acc: 0.3202\n"
          ]
        },
        {
          "name": "stderr",
          "output_type": "stream",
          "text": []
        },
        {
          "name": "stdout",
          "output_type": "stream",
          "text": [
            "Epoch 6/50 Train Loss: 4.6887 | Train Acc: 0.3303 || Valid Loss: 4.6878 | Valid Acc: 0.3315\n"
          ]
        },
        {
          "name": "stderr",
          "output_type": "stream",
          "text": []
        },
        {
          "name": "stdout",
          "output_type": "stream",
          "text": [
            "Epoch 7/50 Train Loss: 4.5028 | Train Acc: 0.3479 || Valid Loss: 4.5469 | Valid Acc: 0.3512\n"
          ]
        },
        {
          "name": "stderr",
          "output_type": "stream",
          "text": []
        },
        {
          "name": "stdout",
          "output_type": "stream",
          "text": [
            "Epoch 8/50 Train Loss: 4.3464 | Train Acc: 0.3640 || Valid Loss: 4.4417 | Valid Acc: 0.3633\n"
          ]
        },
        {
          "name": "stderr",
          "output_type": "stream",
          "text": []
        },
        {
          "name": "stdout",
          "output_type": "stream",
          "text": [
            "Epoch 9/50 Train Loss: 4.1683 | Train Acc: 0.3844 || Valid Loss: 4.3568 | Valid Acc: 0.3749\n"
          ]
        },
        {
          "name": "stderr",
          "output_type": "stream",
          "text": []
        },
        {
          "name": "stdout",
          "output_type": "stream",
          "text": [
            "Epoch 10/50 Train Loss: 4.0062 | Train Acc: 0.4044 || Valid Loss: 4.2802 | Valid Acc: 0.3878\n"
          ]
        },
        {
          "name": "stderr",
          "output_type": "stream",
          "text": []
        },
        {
          "name": "stdout",
          "output_type": "stream",
          "text": [
            "Epoch 11/50 Train Loss: 3.8626 | Train Acc: 0.4234 || Valid Loss: 4.2383 | Valid Acc: 0.3951\n"
          ]
        },
        {
          "name": "stderr",
          "output_type": "stream",
          "text": []
        },
        {
          "name": "stdout",
          "output_type": "stream",
          "text": [
            "Epoch 12/50 Train Loss: 3.7346 | Train Acc: 0.4414 || Valid Loss: 4.2297 | Valid Acc: 0.3949\n"
          ]
        },
        {
          "name": "stderr",
          "output_type": "stream",
          "text": []
        },
        {
          "name": "stdout",
          "output_type": "stream",
          "text": [
            "Epoch 13/50 Train Loss: 3.6149 | Train Acc: 0.4597 || Valid Loss: 4.2202 | Valid Acc: 0.4010\n"
          ]
        },
        {
          "name": "stderr",
          "output_type": "stream",
          "text": []
        },
        {
          "name": "stdout",
          "output_type": "stream",
          "text": [
            "Epoch 14/50 Train Loss: 3.5064 | Train Acc: 0.4769 || Valid Loss: 4.2273 | Valid Acc: 0.4013\n"
          ]
        },
        {
          "name": "stderr",
          "output_type": "stream",
          "text": []
        },
        {
          "name": "stdout",
          "output_type": "stream",
          "text": [
            "Epoch 15/50 Train Loss: 3.4067 | Train Acc: 0.4937 || Valid Loss: 4.2228 | Valid Acc: 0.4048\n"
          ]
        },
        {
          "name": "stderr",
          "output_type": "stream",
          "text": []
        },
        {
          "name": "stdout",
          "output_type": "stream",
          "text": [
            "Epoch 16/50 Train Loss: 3.3139 | Train Acc: 0.5101 || Valid Loss: 4.2516 | Valid Acc: 0.4040\n"
          ]
        },
        {
          "name": "stderr",
          "output_type": "stream",
          "text": []
        },
        {
          "name": "stdout",
          "output_type": "stream",
          "text": [
            "Epoch 17/50 Train Loss: 3.2276 | Train Acc: 0.5259 || Valid Loss: 4.2629 | Valid Acc: 0.4066\n"
          ]
        },
        {
          "name": "stderr",
          "output_type": "stream",
          "text": []
        },
        {
          "name": "stdout",
          "output_type": "stream",
          "text": [
            "Epoch 18/50 Train Loss: 3.1470 | Train Acc: 0.5412 || Valid Loss: 4.3000 | Valid Acc: 0.4041\n"
          ]
        },
        {
          "name": "stderr",
          "output_type": "stream",
          "text": []
        },
        {
          "name": "stdout",
          "output_type": "stream",
          "text": [
            "Epoch 19/50 Train Loss: 3.0718 | Train Acc: 0.5560 || Valid Loss: 4.3217 | Valid Acc: 0.4055\n"
          ]
        },
        {
          "name": "stderr",
          "output_type": "stream",
          "text": []
        },
        {
          "name": "stdout",
          "output_type": "stream",
          "text": [
            "Epoch 20/50 Train Loss: 3.0016 | Train Acc: 0.5702 || Valid Loss: 4.3548 | Valid Acc: 0.4010\n"
          ]
        },
        {
          "name": "stderr",
          "output_type": "stream",
          "text": []
        },
        {
          "name": "stdout",
          "output_type": "stream",
          "text": [
            "Epoch 21/50 Train Loss: 2.9376 | Train Acc: 0.5836 || Valid Loss: 4.3840 | Valid Acc: 0.4007\n"
          ]
        },
        {
          "name": "stderr",
          "output_type": "stream",
          "text": []
        },
        {
          "name": "stdout",
          "output_type": "stream",
          "text": [
            "Epoch 22/50 Train Loss: 2.8762 | Train Acc: 0.5972 || Valid Loss: 4.4201 | Valid Acc: 0.4020\n"
          ]
        },
        {
          "name": "stderr",
          "output_type": "stream",
          "text": []
        },
        {
          "name": "stdout",
          "output_type": "stream",
          "text": [
            "Epoch 23/50 Train Loss: 2.8197 | Train Acc: 0.6095 || Valid Loss: 4.4490 | Valid Acc: 0.4011\n"
          ]
        },
        {
          "name": "stderr",
          "output_type": "stream",
          "text": []
        },
        {
          "name": "stdout",
          "output_type": "stream",
          "text": [
            "Epoch 24/50 Train Loss: 2.7650 | Train Acc: 0.6221 || Valid Loss: 4.4807 | Valid Acc: 0.3993\n"
          ]
        },
        {
          "name": "stderr",
          "output_type": "stream",
          "text": []
        },
        {
          "name": "stdout",
          "output_type": "stream",
          "text": [
            "Epoch 25/50 Train Loss: 2.7149 | Train Acc: 0.6333 || Valid Loss: 4.5178 | Valid Acc: 0.3960\n"
          ]
        },
        {
          "name": "stderr",
          "output_type": "stream",
          "text": []
        },
        {
          "name": "stdout",
          "output_type": "stream",
          "text": [
            "Epoch 26/50 Train Loss: 2.6658 | Train Acc: 0.6451 || Valid Loss: 4.5507 | Valid Acc: 0.3967\n"
          ]
        },
        {
          "name": "stderr",
          "output_type": "stream",
          "text": []
        },
        {
          "name": "stdout",
          "output_type": "stream",
          "text": [
            "Epoch 27/50 Train Loss: 2.6209 | Train Acc: 0.6561 || Valid Loss: 4.5873 | Valid Acc: 0.3932\n"
          ]
        },
        {
          "name": "stderr",
          "output_type": "stream",
          "text": []
        },
        {
          "name": "stdout",
          "output_type": "stream",
          "text": [
            "Epoch 28/50 Train Loss: 2.5782 | Train Acc: 0.6664 || Valid Loss: 4.6405 | Valid Acc: 0.3894\n"
          ]
        },
        {
          "name": "stderr",
          "output_type": "stream",
          "text": []
        },
        {
          "name": "stdout",
          "output_type": "stream",
          "text": [
            "Epoch 29/50 Train Loss: 2.5385 | Train Acc: 0.6765 || Valid Loss: 4.6447 | Valid Acc: 0.3940\n"
          ]
        },
        {
          "name": "stderr",
          "output_type": "stream",
          "text": []
        },
        {
          "name": "stdout",
          "output_type": "stream",
          "text": [
            "Epoch 30/50 Train Loss: 2.5013 | Train Acc: 0.6860 || Valid Loss: 4.6961 | Valid Acc: 0.3886\n"
          ]
        },
        {
          "name": "stderr",
          "output_type": "stream",
          "text": []
        },
        {
          "name": "stdout",
          "output_type": "stream",
          "text": [
            "Epoch 31/50 Train Loss: 2.4651 | Train Acc: 0.6955 || Valid Loss: 4.7299 | Valid Acc: 0.3893\n"
          ]
        },
        {
          "name": "stderr",
          "output_type": "stream",
          "text": []
        },
        {
          "name": "stdout",
          "output_type": "stream",
          "text": [
            "Epoch 32/50 Train Loss: 2.4304 | Train Acc: 0.7043 || Valid Loss: 4.7490 | Valid Acc: 0.3882\n"
          ]
        },
        {
          "name": "stderr",
          "output_type": "stream",
          "text": []
        },
        {
          "name": "stdout",
          "output_type": "stream",
          "text": [
            "Epoch 33/50 Train Loss: 2.3981 | Train Acc: 0.7130 || Valid Loss: 4.7868 | Valid Acc: 0.3874\n"
          ]
        },
        {
          "name": "stderr",
          "output_type": "stream",
          "text": []
        },
        {
          "name": "stdout",
          "output_type": "stream",
          "text": [
            "Epoch 34/50 Train Loss: 2.3664 | Train Acc: 0.7215 || Valid Loss: 4.8068 | Valid Acc: 0.3864\n"
          ]
        },
        {
          "name": "stderr",
          "output_type": "stream",
          "text": []
        },
        {
          "name": "stdout",
          "output_type": "stream",
          "text": [
            "Epoch 35/50 Train Loss: 2.3375 | Train Acc: 0.7297 || Valid Loss: 4.8471 | Valid Acc: 0.3844\n"
          ]
        },
        {
          "name": "stderr",
          "output_type": "stream",
          "text": []
        },
        {
          "name": "stdout",
          "output_type": "stream",
          "text": [
            "Epoch 36/50 Train Loss: 2.3099 | Train Acc: 0.7374 || Valid Loss: 4.8598 | Valid Acc: 0.3858\n"
          ]
        },
        {
          "name": "stderr",
          "output_type": "stream",
          "text": []
        },
        {
          "name": "stdout",
          "output_type": "stream",
          "text": [
            "Epoch 37/50 Train Loss: 2.2844 | Train Acc: 0.7445 || Valid Loss: 4.9061 | Valid Acc: 0.3811\n"
          ]
        },
        {
          "name": "stderr",
          "output_type": "stream",
          "text": []
        },
        {
          "name": "stdout",
          "output_type": "stream",
          "text": [
            "Epoch 38/50 Train Loss: 2.2590 | Train Acc: 0.7520 || Valid Loss: 4.9285 | Valid Acc: 0.3806\n"
          ]
        },
        {
          "name": "stderr",
          "output_type": "stream",
          "text": []
        },
        {
          "name": "stdout",
          "output_type": "stream",
          "text": [
            "Epoch 39/50 Train Loss: 2.2390 | Train Acc: 0.7575 || Valid Loss: 4.9417 | Valid Acc: 0.3808\n"
          ]
        },
        {
          "name": "stderr",
          "output_type": "stream",
          "text": []
        },
        {
          "name": "stdout",
          "output_type": "stream",
          "text": [
            "Epoch 40/50 Train Loss: 2.2145 | Train Acc: 0.7648 || Valid Loss: 4.9665 | Valid Acc: 0.3814\n"
          ]
        },
        {
          "name": "stderr",
          "output_type": "stream",
          "text": []
        },
        {
          "name": "stdout",
          "output_type": "stream",
          "text": [
            "Epoch 41/50 Train Loss: 2.1938 | Train Acc: 0.7708 || Valid Loss: 4.9934 | Valid Acc: 0.3793\n"
          ]
        },
        {
          "name": "stderr",
          "output_type": "stream",
          "text": []
        },
        {
          "name": "stdout",
          "output_type": "stream",
          "text": [
            "Epoch 42/50 Train Loss: 2.1723 | Train Acc: 0.7773 || Valid Loss: 5.0345 | Valid Acc: 0.3784\n"
          ]
        },
        {
          "name": "stderr",
          "output_type": "stream",
          "text": []
        },
        {
          "name": "stdout",
          "output_type": "stream",
          "text": [
            "Epoch 43/50 Train Loss: 2.1528 | Train Acc: 0.7833 || Valid Loss: 5.0376 | Valid Acc: 0.3809\n"
          ]
        },
        {
          "name": "stderr",
          "output_type": "stream",
          "text": []
        },
        {
          "name": "stdout",
          "output_type": "stream",
          "text": [
            "Epoch 44/50 Train Loss: 2.1334 | Train Acc: 0.7892 || Valid Loss: 5.0783 | Valid Acc: 0.3764\n"
          ]
        },
        {
          "name": "stderr",
          "output_type": "stream",
          "text": []
        },
        {
          "name": "stdout",
          "output_type": "stream",
          "text": [
            "Epoch 45/50 Train Loss: 2.1167 | Train Acc: 0.7942 || Valid Loss: 5.0672 | Valid Acc: 0.3779\n"
          ]
        },
        {
          "name": "stderr",
          "output_type": "stream",
          "text": []
        },
        {
          "name": "stdout",
          "output_type": "stream",
          "text": [
            "Epoch 46/50 Train Loss: 2.0981 | Train Acc: 0.8003 || Valid Loss: 5.0952 | Valid Acc: 0.3775\n"
          ]
        },
        {
          "name": "stderr",
          "output_type": "stream",
          "text": []
        },
        {
          "name": "stdout",
          "output_type": "stream",
          "text": [
            "Epoch 47/50 Train Loss: 2.0830 | Train Acc: 0.8049 || Valid Loss: 5.1416 | Valid Acc: 0.3752\n"
          ]
        },
        {
          "name": "stderr",
          "output_type": "stream",
          "text": []
        },
        {
          "name": "stdout",
          "output_type": "stream",
          "text": [
            "Epoch 48/50 Train Loss: 2.0668 | Train Acc: 0.8098 || Valid Loss: 5.1266 | Valid Acc: 0.3767\n"
          ]
        },
        {
          "name": "stderr",
          "output_type": "stream",
          "text": []
        },
        {
          "name": "stdout",
          "output_type": "stream",
          "text": [
            "Epoch 49/50 Train Loss: 2.0525 | Train Acc: 0.8142 || Valid Loss: 5.1760 | Valid Acc: 0.3739\n"
          ]
        },
        {
          "name": "stderr",
          "output_type": "stream",
          "text": []
        },
        {
          "name": "stdout",
          "output_type": "stream",
          "text": [
            "Epoch 50/50 Train Loss: 2.0386 | Train Acc: 0.8187 || Valid Loss: 5.1789 | Valid Acc: 0.3753\n",
            "Total training time: 10070.17 seconds\n"
          ]
        },
        {
          "data": {
            "image/png": "[encoded data removed]",
            "text/plain": [
              "<Figure size 640x480 with 1 Axes>"
            ]
          },
          "metadata": {},
          "output_type": "display_data"
        }
      ],
      "source": [
        "device = torch.device(\"cuda\" if torch.cuda.is_available() else \"cpu\")\n",
        "\n",
        "src_vocab_size = len(sp_zh)\n",
        "tgt_vocab_size = len(sp_en)\n",
        "\n",
        "model = TransformerModel(src_vocab_size, tgt_vocab_size).to(device)\n",
        "\n",
        "optimizer = torch.optim.Adam(model.parameters(), betas=(0.9, 0.98), eps=1e-9)\n",
        "criterion = label_smoothed_nll_loss\n",
        "scheduler = NoamScheduler(optimizer, d_model=512, warmup_steps=4000)\n",
        "\n",
        "start_time = time.time()  # 记录训练开始时间\n",
        "train_losses, train_accs, valid_losses, valid_accs = train_model(model, train_loader, valid_loader, optimizer, criterion, scheduler, epochs=50)\n",
        "end_time = time.time()  # 训练结束时间\n",
        "total_time = end_time - start_time  # 计算训练总耗时（秒）\n",
        "print(f\"Total training time: {total_time:.2f} seconds\")\n",
        "\n",
        "plt.plot(train_losses, label='Loss')\n",
        "plt.plot(train_accs, label='Train Acc')\n",
        "plt.xlabel(\"Epoch\")\n",
        "plt.title(\"Training Loss & Accuracy\")\n",
        "plt.legend()\n",
        "plt.grid(True)\n",
        "plt.show()\n"
      ]
    },
    {
      "cell_type": "code",
      "execution_count": null,
      "metadata": {
        "colab": {
          "base_uri": "https://localhost:8080/",
          "height": 472
        },
        "id": "wyyFYAGFsLoM",
        "outputId": "5695db5d-f056-42e2-fd62-91e25819b1e5"
      },
      "outputs": [
        {
          "data": {
            "image/png": "[encoded data removed]",
            "text/plain": [
              "<Figure size 640x480 with 1 Axes>"
            ]
          },
          "metadata": {},
          "output_type": "display_data"
        }
      ],
      "source": [
        "plt.plot(valid_losses, label='Loss')\n",
        "plt.plot(valid_accs, label='Valid Acc')\n",
        "plt.xlabel(\"Epoch\")\n",
        "plt.title(\"Valid Loss & Accuracy\")\n",
        "plt.legend()\n",
        "plt.grid(True)\n",
        "plt.show()"
      ]
    },
    {
      "cell_type": "code",
      "execution_count": null,
      "metadata": {
        "colab": {
          "base_uri": "https://localhost:8080/",
          "height": 472
        },
        "id": "dUdyI3PHsXE5",
        "outputId": "b5cf44d0-d5d1-4254-d4d6-6efa58c049c4"
      },
      "outputs": [
        {
          "data": {
            "image/png": "[encoded data removed]",
            "text/plain": [
              "<Figure size 640x480 with 1 Axes>"
            ]
          },
          "metadata": {},
          "output_type": "display_data"
        }
      ],
      "source": [
        "plt.plot(train_accs, label='Trainning Acc')\n",
        "plt.plot(valid_accs, label='Valid Acc')\n",
        "plt.xlabel(\"Epoch\")\n",
        "plt.title(\"Trainning Accuracy & Valid Accuracy\")\n",
        "plt.legend()\n",
        "plt.grid(True)\n",
        "plt.show()"
      ]
    },
    {
      "cell_type": "code",
      "execution_count": null,
      "metadata": {
        "colab": {
          "base_uri": "https://localhost:8080/"
        },
        "id": "B--ITjekNkb7",
        "outputId": "0ca28d7d-f79b-4215-b0e0-6f93ca1e96ca"
      },
      "outputs": [
        {
          "name": "stdout",
          "output_type": "stream",
          "text": [
            "模型已保存为 transformer_translation.pt\n"
          ]
        }
      ],
      "source": [
        "# 保存模型状态字典\n",
        "torch.save({\n",
        "    'model_state_dict': model.state_dict(),\n",
        "    'optimizer_state_dict': optimizer.state_dict(),\n",
        "    'scheduler_step': scheduler._step,\n",
        "    'train_losses': train_losses,\n",
        "    'train_accs': train_accs,\n",
        "}, \"transformer_translation.pt\")\n",
        "\n",
        "print(\"模型已保存为 transformer_translation.pt\")\n"
      ]
    },
    {
      "cell_type": "code",
      "execution_count": 14,
      "metadata": {
        "colab": {
          "base_uri": "https://localhost:8080/"
        },
        "id": "79mFuIELMhtw",
        "outputId": "92d7651c-09be-4494-db35-ae096b4bc5d4"
      },
      "outputs": [
        {
          "name": "stderr",
          "output_type": "stream",
          "text": [
            "d:\\anaconda3\\envs\\DL\\Lib\\site-packages\\torch\\nn\\modules\\transformer.py:379: UserWarning: enable_nested_tensor is True, but self.use_nested_tensor is False because encoder_layer.self_attn.batch_first was not True(use batch_first for better inference performance)\n",
            "  warnings.warn(\n",
            "C:\\Users\\Peng\\AppData\\Local\\Temp\\ipykernel_21856\\391847875.py:10: FutureWarning: You are using `torch.load` with `weights_only=False` (the current default value), which uses the default pickle module implicitly. It is possible to construct malicious pickle data which will execute arbitrary code during unpickling (See https://github.com/pytorch/pytorch/blob/main/SECURITY.md#untrusted-models for more details). In a future release, the default value for `weights_only` will be flipped to `True`. This limits the functions that could be executed during unpickling. Arbitrary objects will no longer be allowed to be loaded via this mode unless they are explicitly allowlisted by the user via `torch.serialization.add_safe_globals`. We recommend you start setting `weights_only=True` for any use case where you don't have full control of the loaded file. Please open an issue on GitHub for any issues related to this experimental feature.\n",
            "  checkpoint = torch.load(\"transformer_translation.pt\", map_location=device)\n"
          ]
        },
        {
          "name": "stdout",
          "output_type": "stream",
          "text": [
            "模型和优化器状态已恢复\n"
          ]
        }
      ],
      "source": [
        "device = torch.device(\"cuda\" if torch.cuda.is_available() else \"cpu\")\n",
        "src_vocab_size = len(sp_zh)\n",
        "tgt_vocab_size = len(sp_en)\n",
        "model = TransformerModel(src_vocab_size, tgt_vocab_size).to(device)\n",
        "optimizer = torch.optim.Adam(model.parameters(), betas=(0.9, 0.98), eps=1e-9)\n",
        "criterion = label_smoothed_nll_loss\n",
        "scheduler = NoamScheduler(optimizer, d_model=512, warmup_steps=4000)\n",
        "\n",
        "# 加载模型\n",
        "checkpoint = torch.load(\"transformer_translation.pt\", map_location=device)\n",
        "model.load_state_dict(checkpoint['model_state_dict'])\n",
        "optimizer.load_state_dict(checkpoint['optimizer_state_dict'])\n",
        "scheduler._step = checkpoint['scheduler_step']  # 恢复Noam的step\n",
        "train_losses = checkpoint['train_losses']\n",
        "train_accs = checkpoint['train_accs']\n",
        "\n",
        "print(\"模型和优化器状态已恢复\")"
      ]
    },
    {
      "cell_type": "markdown",
      "metadata": {
        "id": "3s7IU0q1Nk84"
      },
      "source": [
        "# 翻译测试"
      ]
    },
    {
      "cell_type": "code",
      "execution_count": null,
      "metadata": {
        "id": "aLTpklbgNlHO"
      },
      "outputs": [],
      "source": [
        "# Greedy search\n",
        "def translate(model, sp_src, sp_tgt, sentence, max_len=60, device='cuda'):\n",
        "    model.eval()\n",
        "    src_ids = sp_src.EncodeAsIds(sentence)[:max_len-2]\n",
        "    src_ids = [1] + src_ids + [2]\n",
        "    src_ids += [0] * (max_len - len(src_ids))\n",
        "    src = torch.tensor(src_ids, dtype=torch.long).unsqueeze(0).to(device)\n",
        "\n",
        "    tgt_ids = [1]\n",
        "    for i in range(max_len):\n",
        "        tgt = torch.tensor(tgt_ids, dtype=torch.long).unsqueeze(0).to(device)\n",
        "        with torch.no_grad():\n",
        "            output = model(src, tgt)\n",
        "        next_token = output[0, -1].argmax().item()\n",
        "        tgt_ids.append(next_token)\n",
        "        if next_token == 2:  # EOS\n",
        "            break\n",
        "    return sp_tgt.DecodeIds(tgt_ids[1:-1])\n"
      ]
    },
    {
      "cell_type": "markdown",
      "metadata": {
        "id": "2iDTTqkXhj5z"
      },
      "source": [
        "## 训练集样本内翻译测试"
      ]
    },
    {
      "cell_type": "code",
      "execution_count": null,
      "metadata": {
        "colab": {
          "base_uri": "https://localhost:8080/"
        },
        "id": "OWEwion0hPeq",
        "outputId": "8c026335-d168-4d31-a36e-eff453df032b"
      },
      "outputs": [
        {
          "name": "stdout",
          "output_type": "stream",
          "text": [
            "It can be a very complicated thing, the ocean.\n"
          ]
        },
        {
          "name": "stderr",
          "output_type": "stream",
          "text": [
            "/usr/local/lib/python3.11/dist-packages/torch/nn/functional.py:5962: UserWarning: Support for mismatched key_padding_mask and attn_mask is deprecated. Use same type for both instead.\n",
            "  warnings.warn(\n"
          ]
        }
      ],
      "source": [
        "print(translate(model, sp_zh, sp_en, \"海洋是一个非常复杂的事物。\", device=device))"
      ]
    },
    {
      "cell_type": "code",
      "execution_count": null,
      "metadata": {
        "colab": {
          "base_uri": "https://localhost:8080/"
        },
        "id": "m3Pnz02hhtbC",
        "outputId": "6aa7f320-105c-4238-d8cc-be5659cce113"
      },
      "outputs": [
        {
          "name": "stdout",
          "output_type": "stream",
          "text": [
            "And it could be a complicated thing, what human health is.\n"
          ]
        }
      ],
      "source": [
        "print(translate(model, sp_zh, sp_en, \"人类的健康也是一件非常复杂的事情。\", device=device))"
      ]
    },
    {
      "cell_type": "code",
      "execution_count": null,
      "metadata": {
        "colab": {
          "base_uri": "https://localhost:8080/"
        },
        "id": "2sqh0d3Hhtdp",
        "outputId": "f2093df1-29e9-4ec6-cf3e-ef970b47ce88"
      },
      "outputs": [
        {
          "name": "stdout",
          "output_type": "stream",
          "text": [
            "What I'm going to try to say, even though I think that even though we can make those two very complicated objects that just seem a very simple task, it's actually going to be a challenge, but it's a very simple reason to move forward.\n"
          ]
        }
      ],
      "source": [
        "sentence = \"将两者统一起来看起来是一件艰巨的任务。但我想要试图去说明的是 即使是如此复杂的情况，\\\n",
        "       也存在一些我认为简单的话题， 一些如果我们能理解，就很容易向前发展的话题。\"\n",
        "\n",
        "print(translate(model, sp_zh, sp_en, sentence, device=device))"
      ]
    },
    {
      "cell_type": "code",
      "execution_count": null,
      "metadata": {
        "colab": {
          "base_uri": "https://localhost:8080/"
        },
        "id": "TyXOsxTxhtgL",
        "outputId": "3a339595-45b7-49fc-eaac-e1d303a92ab4"
      },
      "outputs": [
        {
          "name": "stdout",
          "output_type": "stream",
          "text": [
            "And those simple themes aren't really themes about what we're going to say about, but it's a complicated topic that we've all pretty much learned.\n"
          ]
        }
      ],
      "source": [
        "sentence = \"这些简单的话题确实不是 有关那复杂的科学有了怎样的发展， 而是一些我们都恰好知道的事情。\"\n",
        "\n",
        "print(translate(model, sp_zh, sp_en, sentence, device=device))"
      ]
    },
    {
      "cell_type": "markdown",
      "metadata": {
        "id": "8CwApVOHhuni"
      },
      "source": [
        "## 训练集样本外翻译测试"
      ]
    },
    {
      "cell_type": "code",
      "execution_count": null,
      "metadata": {
        "colab": {
          "base_uri": "https://localhost:8080/"
        },
        "id": "1xQerySkimSF",
        "outputId": "1a979f1e-6441-4f68-9169-5b6c6502c72a"
      },
      "outputs": [
        {
          "name": "stdout",
          "output_type": "stream",
          "text": [
            "Hello, avatar.\n"
          ]
        }
      ],
      "source": [
        "print(translate(model, sp_zh, sp_en, \"你好，世界！\", device=device))"
      ]
    },
    {
      "cell_type": "code",
      "execution_count": null,
      "metadata": {
        "colab": {
          "base_uri": "https://localhost:8080/"
        },
        "id": "f1EzhnU4NlK6",
        "outputId": "59854449-46bf-4eba-b0cf-54edb6ddf28c"
      },
      "outputs": [
        {
          "name": "stdout",
          "output_type": "stream",
          "text": [
            "I love being able to learn that depth.\n"
          ]
        }
      ],
      "source": [
        "print(translate(model, sp_zh, sp_en, \"我爱深度学习！\", device=device))"
      ]
    },
    {
      "cell_type": "code",
      "execution_count": null,
      "metadata": {
        "colab": {
          "base_uri": "https://localhost:8080/"
        },
        "id": "fW-ot1rcNlVF",
        "outputId": "d9f2d643-e9bd-4e21-c682-5edf2f6dff29"
      },
      "outputs": [
        {
          "name": "stdout",
          "output_type": "stream",
          "text": [
            "Mults like living is a near-death Sci for life, where people to get their way.\n"
          ]
        }
      ],
      "source": [
        "print(translate(model, sp_zh, sp_en, \"生活就像海洋，只有意志坚强的人才能到达彼岸\", device=device))"
      ]
    },
    {
      "cell_type": "code",
      "execution_count": null,
      "metadata": {
        "colab": {
          "base_uri": "https://localhost:8080/"
        },
        "id": "qKjOhRgCNlXS",
        "outputId": "ad4f42c8-c476-4c77-c640-79104ad67864"
      },
      "outputs": [
        {
          "name": "stdout",
          "output_type": "stream",
          "text": [
            "A life-song tear on and on and on, without us.\n"
          ]
        }
      ],
      "source": [
        "print(translate(model, sp_zh, sp_en, \"生活不止眼前的苟且，还有诗和远方\", device=device))"
      ]
    },
    {
      "cell_type": "markdown",
      "metadata": {
        "id": "B5lwGks8qYko"
      },
      "source": [
        "# 模型调参"
      ]
    },
    {
      "cell_type": "code",
      "execution_count": null,
      "metadata": {
        "id": "ePQ9PHBzqadM"
      },
      "outputs": [],
      "source": [
        "class TransformerModel_2(nn.Module): #dropout提升至0.2，解码层和编码层减少至4\n",
        "    def __init__(self, src_vocab_size, tgt_vocab_size, d_model=512, nhead=8,\n",
        "                 num_encoder_layers=4, num_decoder_layers=4, dim_feedforward=2048, dropout=0.2):\n",
        "        super().__init__()\n",
        "        self.src_embedding = nn.Embedding(src_vocab_size, d_model, padding_idx=0)\n",
        "        self.tgt_embedding = nn.Embedding(tgt_vocab_size, d_model, padding_idx=0)\n",
        "        self.pos_encoder = PositionalEncoding(d_model)\n",
        "        self.pos_decoder = PositionalEncoding(d_model)\n",
        "        self.transformer = nn.Transformer(d_model, nhead,\n",
        "                                          num_encoder_layers, num_decoder_layers,\n",
        "                                          dim_feedforward, dropout)\n",
        "        self.fc_out = nn.Linear(d_model, tgt_vocab_size)\n",
        "        self.d_model = d_model\n",
        "\n",
        "    def forward(self, src, tgt):\n",
        "        # src, tgt shape: [batch_size, seq_len]\n",
        "        src_mask = self._generate_padding_mask(src)\n",
        "        tgt_mask = self._generate_square_subsequent_mask(tgt.size(1)).to(tgt.device)\n",
        "        tgt_padding_mask = self._generate_padding_mask(tgt)\n",
        "\n",
        "        src_emb = self.pos_encoder(self.src_embedding(src) * math.sqrt(self.d_model))\n",
        "        tgt_emb = self.pos_decoder(self.tgt_embedding(tgt) * math.sqrt(self.d_model))\n",
        "\n",
        "        output = self.transformer(src_emb.transpose(0,1), tgt_emb.transpose(0,1),\n",
        "                                  src_key_padding_mask=src_mask,\n",
        "                                  tgt_mask=tgt_mask,\n",
        "                                  tgt_key_padding_mask=tgt_padding_mask)\n",
        "        output = self.fc_out(output)  # [seq_len, batch, tgt_vocab_size]\n",
        "        return output.transpose(0,1)  # [batch, seq_len, tgt_vocab_size]\n",
        "\n",
        "    def _generate_square_subsequent_mask(self, sz):\n",
        "        mask = torch.triu(torch.ones(sz, sz) * float('-inf'), diagonal=1)\n",
        "        return mask\n",
        "\n",
        "    def _generate_padding_mask(self, seq):\n",
        "        return (seq == 0)"
      ]
    },
    {
      "cell_type": "code",
      "execution_count": null,
      "metadata": {
        "id": "hAKDm8oMs2EK"
      },
      "outputs": [],
      "source": [
        "class NoamScheduler_2: # warmup_steps提升至8000\n",
        "    def __init__(self, optimizer, d_model, warmup_steps=8000):\n",
        "        self.optimizer = optimizer\n",
        "        self.d_model = d_model\n",
        "        self.warmup_steps = warmup_steps\n",
        "        self._step = 0\n",
        "\n",
        "    def step(self):\n",
        "        self._step += 1\n",
        "        lr = self.d_model ** (-0.5) * min(self._step ** (-0.5), self._step * self.warmup_steps ** (-1.5))\n",
        "        for param_group in self.optimizer.param_groups:\n",
        "            param_group['lr'] = lr\n",
        "        return lr"
      ]
    },
    {
      "cell_type": "code",
      "execution_count": null,
      "metadata": {
        "id": "rr9PtjuZtTYm"
      },
      "outputs": [],
      "source": [
        "# 训练函数引入earlystop早停机制\n",
        "def train_model_2(model, train_loader, valid_loader, optimizer, criterion, scheduler, epochs=30, device='cuda'):\n",
        "    import warnings\n",
        "    warnings.filterwarnings(\"ignore\")\n",
        "\n",
        "    model.train()\n",
        "    train_loss_history = []\n",
        "    train_acc_history = []\n",
        "    valid_loss_history = []\n",
        "    valid_acc_history = []\n",
        "\n",
        "    for epoch in range(epochs):\n",
        "        model.train()\n",
        "        epoch_loss = 0\n",
        "        correct = 0\n",
        "        total = 0\n",
        "\n",
        "        for batch in tqdm(train_loader, desc=f\"Epoch {epoch+1}/{epochs}\", leave=False):\n",
        "            src = batch[\"src_ids\"].to(device)\n",
        "            tgt = batch[\"tgt_ids\"].to(device)\n",
        "\n",
        "            tgt_input = tgt[:, :-1]\n",
        "            tgt_output = tgt[:, 1:]\n",
        "\n",
        "            logits = model(src, tgt_input)\n",
        "            logits = logits.reshape(-1, logits.size(-1))\n",
        "            tgt_output = tgt_output.reshape(-1)\n",
        "\n",
        "            loss = criterion(logits, tgt_output)\n",
        "\n",
        "            optimizer.zero_grad()\n",
        "            loss.backward()\n",
        "            optimizer.step()\n",
        "            scheduler.step()\n",
        "\n",
        "            epoch_loss += loss.item()\n",
        "\n",
        "            preds = logits.argmax(dim=-1)\n",
        "            mask = tgt_output != 0\n",
        "            correct += (preds == tgt_output)[mask].sum().item()\n",
        "            total += mask.sum().item()\n",
        "\n",
        "        train_avg_loss = epoch_loss / len(train_loader)\n",
        "        train_acc = correct / total if total > 0 else 0\n",
        "        train_loss_history.append(train_avg_loss)\n",
        "        train_acc_history.append(train_acc)\n",
        "\n",
        "        # === 验证集评估 ===\n",
        "        valid_loss, valid_acc = evaluate_model(model, valid_loader, criterion, device)\n",
        "        valid_loss_history.append(valid_loss)\n",
        "        valid_acc_history.append(valid_acc)\n",
        "        best_acc = 0\n",
        "        if valid_acc > best_acc:\n",
        "            best_acc = valid_acc\n",
        "            counter = 0\n",
        "            torch.save(model.state_dict(), 'best_model.pt')\n",
        "            print(\"✅ 保存新最佳模型\")\n",
        "        else:\n",
        "            counter += 1\n",
        "            patience = 5 #耐心参数设置为3\n",
        "            if counter >= patience:\n",
        "                print(\"⛔ Early stopping\")\n",
        "                break\n",
        "\n",
        "        print(f\"Epoch {epoch+1}/{epochs} \"\n",
        "              f\"Train Loss: {train_avg_loss:.4f} | Train Acc: {train_acc:.4f} || \"\n",
        "              f\"Valid Loss: {valid_loss:.4f} | Valid Acc: {valid_acc:.4f}\")\n",
        "\n",
        "    return train_loss_history, train_acc_history, valid_loss_history, valid_acc_history\n"
      ]
    },
    {
      "cell_type": "code",
      "execution_count": null,
      "metadata": {
        "id": "wHY3g1jfuACd"
      },
      "outputs": [],
      "source": [
        "model2 = TransformerModel_2(src_vocab_size, tgt_vocab_size).to(device)"
      ]
    },
    {
      "cell_type": "code",
      "execution_count": null,
      "metadata": {
        "colab": {
          "base_uri": "https://localhost:8080/",
          "height": 1000
        },
        "id": "OVfMPp3Jtsei",
        "outputId": "4518cec3-c6be-45f4-c3ec-ad8352fcffe0"
      },
      "outputs": [
        {
          "name": "stderr",
          "output_type": "stream",
          "text": []
        },
        {
          "name": "stdout",
          "output_type": "stream",
          "text": [
            "✅ 保存新最佳模型\n",
            "Epoch 1/50 Train Loss: 7.5295 | Train Acc: 0.1204 || Valid Loss: 6.4204 | Valid Acc: 0.1815\n"
          ]
        },
        {
          "name": "stderr",
          "output_type": "stream",
          "text": []
        },
        {
          "name": "stdout",
          "output_type": "stream",
          "text": [
            "✅ 保存新最佳模型\n",
            "Epoch 2/50 Train Loss: 6.1352 | Train Acc: 0.2057 || Valid Loss: 5.8727 | Valid Acc: 0.2287\n"
          ]
        },
        {
          "name": "stderr",
          "output_type": "stream",
          "text": []
        },
        {
          "name": "stdout",
          "output_type": "stream",
          "text": [
            "✅ 保存新最佳模型\n",
            "Epoch 3/50 Train Loss: 5.7740 | Train Acc: 0.2340 || Valid Loss: 5.5989 | Valid Acc: 0.2531\n"
          ]
        },
        {
          "name": "stderr",
          "output_type": "stream",
          "text": []
        },
        {
          "name": "stdout",
          "output_type": "stream",
          "text": [
            "✅ 保存新最佳模型\n",
            "Epoch 4/50 Train Loss: 5.5468 | Train Acc: 0.2527 || Valid Loss: 5.4015 | Valid Acc: 0.2686\n"
          ]
        },
        {
          "name": "stderr",
          "output_type": "stream",
          "text": []
        },
        {
          "name": "stdout",
          "output_type": "stream",
          "text": [
            "✅ 保存新最佳模型\n",
            "Epoch 5/50 Train Loss: 5.3606 | Train Acc: 0.2681 || Valid Loss: 5.2375 | Valid Acc: 0.2829\n"
          ]
        },
        {
          "name": "stderr",
          "output_type": "stream",
          "text": []
        },
        {
          "name": "stdout",
          "output_type": "stream",
          "text": [
            "✅ 保存新最佳模型\n",
            "Epoch 6/50 Train Loss: 5.1942 | Train Acc: 0.2817 || Valid Loss: 5.0903 | Valid Acc: 0.2951\n"
          ]
        },
        {
          "name": "stderr",
          "output_type": "stream",
          "text": []
        },
        {
          "name": "stdout",
          "output_type": "stream",
          "text": [
            "✅ 保存新最佳模型\n",
            "Epoch 7/50 Train Loss: 5.0386 | Train Acc: 0.2945 || Valid Loss: 4.9635 | Valid Acc: 0.3079\n"
          ]
        },
        {
          "name": "stderr",
          "output_type": "stream",
          "text": []
        },
        {
          "name": "stdout",
          "output_type": "stream",
          "text": [
            "✅ 保存新最佳模型\n",
            "Epoch 8/50 Train Loss: 4.8852 | Train Acc: 0.3080 || Valid Loss: 4.8418 | Valid Acc: 0.3187\n"
          ]
        },
        {
          "name": "stderr",
          "output_type": "stream",
          "text": []
        },
        {
          "name": "stdout",
          "output_type": "stream",
          "text": [
            "✅ 保存新最佳模型\n",
            "Epoch 9/50 Train Loss: 4.7384 | Train Acc: 0.3214 || Valid Loss: 4.7320 | Valid Acc: 0.3317\n"
          ]
        },
        {
          "name": "stderr",
          "output_type": "stream",
          "text": []
        },
        {
          "name": "stdout",
          "output_type": "stream",
          "text": [
            "✅ 保存新最佳模型\n",
            "Epoch 10/50 Train Loss: 4.6048 | Train Acc: 0.3337 || Valid Loss: 4.6519 | Valid Acc: 0.3398\n"
          ]
        },
        {
          "name": "stderr",
          "output_type": "stream",
          "text": []
        },
        {
          "name": "stdout",
          "output_type": "stream",
          "text": [
            "✅ 保存新最佳模型\n",
            "Epoch 11/50 Train Loss: 4.4848 | Train Acc: 0.3447 || Valid Loss: 4.5893 | Valid Acc: 0.3462\n"
          ]
        },
        {
          "name": "stderr",
          "output_type": "stream",
          "text": []
        },
        {
          "name": "stdout",
          "output_type": "stream",
          "text": [
            "✅ 保存新最佳模型\n",
            "Epoch 12/50 Train Loss: 4.3797 | Train Acc: 0.3550 || Valid Loss: 4.5452 | Valid Acc: 0.3504\n"
          ]
        },
        {
          "name": "stderr",
          "output_type": "stream",
          "text": []
        },
        {
          "name": "stdout",
          "output_type": "stream",
          "text": [
            "✅ 保存新最佳模型\n",
            "Epoch 13/50 Train Loss: 4.2862 | Train Acc: 0.3642 || Valid Loss: 4.4909 | Valid Acc: 0.3546\n"
          ]
        },
        {
          "name": "stderr",
          "output_type": "stream",
          "text": []
        },
        {
          "name": "stdout",
          "output_type": "stream",
          "text": [
            "✅ 保存新最佳模型\n",
            "Epoch 14/50 Train Loss: 4.2039 | Train Acc: 0.3729 || Valid Loss: 4.4638 | Valid Acc: 0.3608\n"
          ]
        },
        {
          "name": "stderr",
          "output_type": "stream",
          "text": []
        },
        {
          "name": "stdout",
          "output_type": "stream",
          "text": [
            "✅ 保存新最佳模型\n",
            "Epoch 15/50 Train Loss: 4.1296 | Train Acc: 0.3813 || Valid Loss: 4.4408 | Valid Acc: 0.3635\n"
          ]
        },
        {
          "name": "stderr",
          "output_type": "stream",
          "text": []
        },
        {
          "name": "stdout",
          "output_type": "stream",
          "text": [
            "✅ 保存新最佳模型\n",
            "Epoch 16/50 Train Loss: 4.0461 | Train Acc: 0.3914 || Valid Loss: 4.4020 | Valid Acc: 0.3718\n"
          ]
        },
        {
          "name": "stderr",
          "output_type": "stream",
          "text": []
        },
        {
          "name": "stdout",
          "output_type": "stream",
          "text": [
            "✅ 保存新最佳模型\n",
            "Epoch 17/50 Train Loss: 3.9591 | Train Acc: 0.4026 || Valid Loss: 4.3792 | Valid Acc: 0.3753\n"
          ]
        },
        {
          "name": "stderr",
          "output_type": "stream",
          "text": []
        },
        {
          "name": "stdout",
          "output_type": "stream",
          "text": [
            "✅ 保存新最佳模型\n",
            "Epoch 18/50 Train Loss: 3.8786 | Train Acc: 0.4132 || Valid Loss: 4.3672 | Valid Acc: 0.3767\n"
          ]
        },
        {
          "name": "stderr",
          "output_type": "stream",
          "text": []
        },
        {
          "name": "stdout",
          "output_type": "stream",
          "text": [
            "✅ 保存新最佳模型\n",
            "Epoch 19/50 Train Loss: 3.8047 | Train Acc: 0.4239 || Valid Loss: 4.3649 | Valid Acc: 0.3779\n"
          ]
        },
        {
          "name": "stderr",
          "output_type": "stream",
          "text": []
        },
        {
          "name": "stdout",
          "output_type": "stream",
          "text": [
            "✅ 保存新最佳模型\n",
            "Epoch 20/50 Train Loss: 3.7351 | Train Acc: 0.4340 || Valid Loss: 4.3675 | Valid Acc: 0.3791\n"
          ]
        },
        {
          "name": "stderr",
          "output_type": "stream",
          "text": []
        },
        {
          "name": "stdout",
          "output_type": "stream",
          "text": [
            "✅ 保存新最佳模型\n",
            "Epoch 21/50 Train Loss: 3.6721 | Train Acc: 0.4435 || Valid Loss: 4.3599 | Valid Acc: 0.3850\n"
          ]
        },
        {
          "name": "stderr",
          "output_type": "stream",
          "text": []
        },
        {
          "name": "stdout",
          "output_type": "stream",
          "text": [
            "✅ 保存新最佳模型\n",
            "Epoch 22/50 Train Loss: 3.6129 | Train Acc: 0.4527 || Valid Loss: 4.3651 | Valid Acc: 0.3814\n"
          ]
        },
        {
          "name": "stderr",
          "output_type": "stream",
          "text": []
        },
        {
          "name": "stdout",
          "output_type": "stream",
          "text": [
            "✅ 保存新最佳模型\n",
            "Epoch 23/50 Train Loss: 3.5567 | Train Acc: 0.4618 || Valid Loss: 4.3741 | Valid Acc: 0.3868\n"
          ]
        },
        {
          "name": "stderr",
          "output_type": "stream",
          "text": []
        },
        {
          "name": "stdout",
          "output_type": "stream",
          "text": [
            "✅ 保存新最佳模型\n",
            "Epoch 24/50 Train Loss: 3.5043 | Train Acc: 0.4706 || Valid Loss: 4.3886 | Valid Acc: 0.3858\n"
          ]
        },
        {
          "name": "stderr",
          "output_type": "stream",
          "text": []
        },
        {
          "name": "stdout",
          "output_type": "stream",
          "text": [
            "✅ 保存新最佳模型\n",
            "Epoch 25/50 Train Loss: 3.4577 | Train Acc: 0.4783 || Valid Loss: 4.4054 | Valid Acc: 0.3848\n"
          ]
        },
        {
          "name": "stderr",
          "output_type": "stream",
          "text": []
        },
        {
          "name": "stdout",
          "output_type": "stream",
          "text": [
            "✅ 保存新最佳模型\n",
            "Epoch 26/50 Train Loss: 3.4108 | Train Acc: 0.4868 || Valid Loss: 4.4058 | Valid Acc: 0.3870\n"
          ]
        },
        {
          "name": "stderr",
          "output_type": "stream",
          "text": []
        },
        {
          "name": "stdout",
          "output_type": "stream",
          "text": [
            "✅ 保存新最佳模型\n",
            "Epoch 27/50 Train Loss: 3.3664 | Train Acc: 0.4946 || Valid Loss: 4.4215 | Valid Acc: 0.3857\n"
          ]
        },
        {
          "name": "stderr",
          "output_type": "stream",
          "text": []
        },
        {
          "name": "stdout",
          "output_type": "stream",
          "text": [
            "✅ 保存新最佳模型\n",
            "Epoch 28/50 Train Loss: 3.3257 | Train Acc: 0.5019 || Valid Loss: 4.4462 | Valid Acc: 0.3834\n"
          ]
        },
        {
          "name": "stderr",
          "output_type": "stream",
          "text": []
        },
        {
          "name": "stdout",
          "output_type": "stream",
          "text": [
            "✅ 保存新最佳模型\n",
            "Epoch 29/50 Train Loss: 3.2865 | Train Acc: 0.5089 || Valid Loss: 4.4599 | Valid Acc: 0.3845\n"
          ]
        },
        {
          "name": "stderr",
          "output_type": "stream",
          "text": []
        },
        {
          "name": "stdout",
          "output_type": "stream",
          "text": [
            "✅ 保存新最佳模型\n",
            "Epoch 30/50 Train Loss: 3.2482 | Train Acc: 0.5160 || Valid Loss: 4.4773 | Valid Acc: 0.3826\n"
          ]
        },
        {
          "name": "stderr",
          "output_type": "stream",
          "text": []
        },
        {
          "name": "stdout",
          "output_type": "stream",
          "text": [
            "✅ 保存新最佳模型\n",
            "Epoch 31/50 Train Loss: 3.2133 | Train Acc: 0.5229 || Valid Loss: 4.5030 | Valid Acc: 0.3792\n"
          ]
        },
        {
          "name": "stderr",
          "output_type": "stream",
          "text": []
        },
        {
          "name": "stdout",
          "output_type": "stream",
          "text": [
            "✅ 保存新最佳模型\n",
            "Epoch 32/50 Train Loss: 3.1794 | Train Acc: 0.5293 || Valid Loss: 4.5137 | Valid Acc: 0.3807\n"
          ]
        },
        {
          "name": "stderr",
          "output_type": "stream",
          "text": []
        },
        {
          "name": "stdout",
          "output_type": "stream",
          "text": [
            "✅ 保存新最佳模型\n",
            "Epoch 33/50 Train Loss: 3.1466 | Train Acc: 0.5363 || Valid Loss: 4.5318 | Valid Acc: 0.3824\n"
          ]
        },
        {
          "name": "stderr",
          "output_type": "stream",
          "text": []
        },
        {
          "ename": "KeyboardInterrupt",
          "evalue": "",
          "output_type": "error",
          "traceback": [
            "\u001b[0;31m---------------------------------------------------------------------------\u001b[0m",
            "\u001b[0;31mKeyboardInterrupt\u001b[0m                         Traceback (most recent call last)",
            "\u001b[0;32m/tmp/ipython-input-68-4006793062.py\u001b[0m in \u001b[0;36m<cell line: 0>\u001b[0;34m()\u001b[0m\n\u001b[1;32m      4\u001b[0m \u001b[0;34m\u001b[0m\u001b[0m\n\u001b[1;32m      5\u001b[0m \u001b[0mstart_time\u001b[0m \u001b[0;34m=\u001b[0m \u001b[0mtime\u001b[0m\u001b[0;34m.\u001b[0m\u001b[0mtime\u001b[0m\u001b[0;34m(\u001b[0m\u001b[0;34m)\u001b[0m  \u001b[0;31m# 记录训练开始时间\u001b[0m\u001b[0;34m\u001b[0m\u001b[0;34m\u001b[0m\u001b[0m\n\u001b[0;32m----> 6\u001b[0;31m \u001b[0mtrain2_losses\u001b[0m\u001b[0;34m,\u001b[0m \u001b[0mtrain2_accs\u001b[0m\u001b[0;34m,\u001b[0m \u001b[0mvalid2_losses\u001b[0m\u001b[0;34m,\u001b[0m \u001b[0mvalid2_accs\u001b[0m \u001b[0;34m=\u001b[0m \u001b[0mtrain_model_2\u001b[0m\u001b[0;34m(\u001b[0m\u001b[0mmodel2\u001b[0m\u001b[0;34m,\u001b[0m \u001b[0mtrain_loader\u001b[0m\u001b[0;34m,\u001b[0m \u001b[0mvalid_loader\u001b[0m\u001b[0;34m,\u001b[0m \u001b[0moptimizer\u001b[0m\u001b[0;34m,\u001b[0m \u001b[0mcriterion\u001b[0m\u001b[0;34m,\u001b[0m \u001b[0mscheduler\u001b[0m\u001b[0;34m,\u001b[0m \u001b[0mepochs\u001b[0m\u001b[0;34m=\u001b[0m\u001b[0;36m50\u001b[0m\u001b[0;34m)\u001b[0m\u001b[0;34m\u001b[0m\u001b[0;34m\u001b[0m\u001b[0m\n\u001b[0m\u001b[1;32m      7\u001b[0m \u001b[0mend_time\u001b[0m \u001b[0;34m=\u001b[0m \u001b[0mtime\u001b[0m\u001b[0;34m.\u001b[0m\u001b[0mtime\u001b[0m\u001b[0;34m(\u001b[0m\u001b[0;34m)\u001b[0m  \u001b[0;31m# 训练结束时间\u001b[0m\u001b[0;34m\u001b[0m\u001b[0;34m\u001b[0m\u001b[0m\n\u001b[1;32m      8\u001b[0m \u001b[0mtotal_time\u001b[0m \u001b[0;34m=\u001b[0m \u001b[0mend_time\u001b[0m \u001b[0;34m-\u001b[0m \u001b[0mstart_time\u001b[0m  \u001b[0;31m# 计算训练总耗时（秒）\u001b[0m\u001b[0;34m\u001b[0m\u001b[0;34m\u001b[0m\u001b[0m\n",
            "\u001b[0;32m/tmp/ipython-input-66-1921714894.py\u001b[0m in \u001b[0;36mtrain_model_2\u001b[0;34m(model, train_loader, valid_loader, optimizer, criterion, scheduler, epochs, device)\u001b[0m\n\u001b[1;32m     34\u001b[0m             \u001b[0mscheduler\u001b[0m\u001b[0;34m.\u001b[0m\u001b[0mstep\u001b[0m\u001b[0;34m(\u001b[0m\u001b[0;34m)\u001b[0m\u001b[0;34m\u001b[0m\u001b[0;34m\u001b[0m\u001b[0m\n\u001b[1;32m     35\u001b[0m \u001b[0;34m\u001b[0m\u001b[0m\n\u001b[0;32m---> 36\u001b[0;31m             \u001b[0mepoch_loss\u001b[0m \u001b[0;34m+=\u001b[0m \u001b[0mloss\u001b[0m\u001b[0;34m.\u001b[0m\u001b[0mitem\u001b[0m\u001b[0;34m(\u001b[0m\u001b[0;34m)\u001b[0m\u001b[0;34m\u001b[0m\u001b[0;34m\u001b[0m\u001b[0m\n\u001b[0m\u001b[1;32m     37\u001b[0m \u001b[0;34m\u001b[0m\u001b[0m\n\u001b[1;32m     38\u001b[0m             \u001b[0mpreds\u001b[0m \u001b[0;34m=\u001b[0m \u001b[0mlogits\u001b[0m\u001b[0;34m.\u001b[0m\u001b[0margmax\u001b[0m\u001b[0;34m(\u001b[0m\u001b[0mdim\u001b[0m\u001b[0;34m=\u001b[0m\u001b[0;34m-\u001b[0m\u001b[0;36m1\u001b[0m\u001b[0;34m)\u001b[0m\u001b[0;34m\u001b[0m\u001b[0;34m\u001b[0m\u001b[0m\n",
            "\u001b[0;31mKeyboardInterrupt\u001b[0m: "
          ]
        }
      ],
      "source": [
        "optimizer = torch.optim.Adam(model2.parameters(), betas=(0.9, 0.98), eps=1e-9)\n",
        "criterion = label_smoothed_nll_loss\n",
        "scheduler = NoamScheduler_2(optimizer, d_model=512, warmup_steps=8000)\n",
        "\n",
        "start_time = time.time()  # 记录训练开始时间\n",
        "train2_losses, train2_accs, valid2_losses, valid2_accs = train_model_2(model2, train_loader, valid_loader, optimizer, criterion, scheduler, epochs=50)\n",
        "end_time = time.time()  # 训练结束时间\n",
        "total_time = end_time - start_time  # 计算训练总耗时（秒）\n",
        "print(f\"Total training time: {total_time:.2f} seconds\")\n"
      ]
    },
    {
      "cell_type": "code",
      "execution_count": null,
      "metadata": {
        "colab": {
          "base_uri": "https://localhost:8080/",
          "height": 211
        },
        "id": "RtE4uYccuss7",
        "outputId": "ea0f4dc5-fff2-40e2-d3ce-6df21c7fb8fe"
      },
      "outputs": [
        {
          "ename": "NameError",
          "evalue": "name 'train2_accs' is not defined",
          "output_type": "error",
          "traceback": [
            "\u001b[0;31m---------------------------------------------------------------------------\u001b[0m",
            "\u001b[0;31mNameError\u001b[0m                                 Traceback (most recent call last)",
            "\u001b[0;32m/tmp/ipython-input-69-121103322.py\u001b[0m in \u001b[0;36m<cell line: 0>\u001b[0;34m()\u001b[0m\n\u001b[0;32m----> 1\u001b[0;31m \u001b[0mplt\u001b[0m\u001b[0;34m.\u001b[0m\u001b[0mplot\u001b[0m\u001b[0;34m(\u001b[0m\u001b[0mtrain2_accs\u001b[0m\u001b[0;34m,\u001b[0m \u001b[0mlabel\u001b[0m\u001b[0;34m=\u001b[0m\u001b[0;34m'Trainning Acc'\u001b[0m\u001b[0;34m)\u001b[0m\u001b[0;34m\u001b[0m\u001b[0;34m\u001b[0m\u001b[0m\n\u001b[0m\u001b[1;32m      2\u001b[0m \u001b[0mplt\u001b[0m\u001b[0;34m.\u001b[0m\u001b[0mplot\u001b[0m\u001b[0;34m(\u001b[0m\u001b[0mvalid2_accs\u001b[0m\u001b[0;34m,\u001b[0m \u001b[0mlabel\u001b[0m\u001b[0;34m=\u001b[0m\u001b[0;34m'Valid Acc'\u001b[0m\u001b[0;34m)\u001b[0m\u001b[0;34m\u001b[0m\u001b[0;34m\u001b[0m\u001b[0m\n\u001b[1;32m      3\u001b[0m \u001b[0mplt\u001b[0m\u001b[0;34m.\u001b[0m\u001b[0mxlabel\u001b[0m\u001b[0;34m(\u001b[0m\u001b[0;34m\"Epoch\"\u001b[0m\u001b[0;34m)\u001b[0m\u001b[0;34m\u001b[0m\u001b[0;34m\u001b[0m\u001b[0m\n\u001b[1;32m      4\u001b[0m \u001b[0mplt\u001b[0m\u001b[0;34m.\u001b[0m\u001b[0mtitle\u001b[0m\u001b[0;34m(\u001b[0m\u001b[0;34m\"Trainning Accuracy & Valid Accuracy\"\u001b[0m\u001b[0;34m)\u001b[0m\u001b[0;34m\u001b[0m\u001b[0;34m\u001b[0m\u001b[0m\n\u001b[1;32m      5\u001b[0m \u001b[0mplt\u001b[0m\u001b[0;34m.\u001b[0m\u001b[0mlegend\u001b[0m\u001b[0;34m(\u001b[0m\u001b[0;34m)\u001b[0m\u001b[0;34m\u001b[0m\u001b[0;34m\u001b[0m\u001b[0m\n",
            "\u001b[0;31mNameError\u001b[0m: name 'train2_accs' is not defined"
          ]
        }
      ],
      "source": [
        "plt.plot(train2_accs, label='Trainning Acc')\n",
        "plt.plot(valid2_accs, label='Valid Acc')\n",
        "plt.xlabel(\"Epoch\")\n",
        "plt.title(\"Trainning Accuracy & Valid Accuracy\")\n",
        "plt.legend()\n",
        "plt.grid(True)\n",
        "plt.show()"
      ]
    },
    {
      "cell_type": "code",
      "execution_count": null,
      "metadata": {
        "colab": {
          "base_uri": "https://localhost:8080/"
        },
        "id": "5MCuOAhcivWo",
        "outputId": "fbfe4042-eac2-45b6-e2f1-e390edca8dec"
      },
      "outputs": [
        {
          "name": "stdout",
          "output_type": "stream",
          "text": [
            "模型状态已恢复\n"
          ]
        }
      ],
      "source": [
        "# 加载模型\n",
        "model2 = TransformerModel_2(src_vocab_size, tgt_vocab_size).to(device)\n",
        "model2.load_state_dict(torch.load(\"/content/drive/MyDrive/best_model.pt\", map_location=device))\n",
        "\n",
        "print(\"模型状态已恢复\")"
      ]
    },
    {
      "cell_type": "markdown",
      "metadata": {
        "id": "REv4JXRdkb0w"
      },
      "source": [
        "## 训练集样本内翻译测试"
      ]
    },
    {
      "cell_type": "code",
      "execution_count": null,
      "metadata": {
        "colab": {
          "base_uri": "https://localhost:8080/"
        },
        "id": "n8BOOz2P2haP",
        "outputId": "96836802-8ee5-4508-d348-3708914f33d4"
      },
      "outputs": [
        {
          "name": "stdout",
          "output_type": "stream",
          "text": [
            "The ocean is a very complex thing.\n"
          ]
        },
        {
          "name": "stderr",
          "output_type": "stream",
          "text": [
            "/usr/local/lib/python3.11/dist-packages/torch/nn/functional.py:5962: UserWarning: Support for mismatched key_padding_mask and attn_mask is deprecated. Use same type for both instead.\n",
            "  warnings.warn(\n"
          ]
        }
      ],
      "source": [
        "print(translate(model2, sp_zh, sp_en, \"海洋是一个非常复杂的事物。\", device=device))"
      ]
    },
    {
      "cell_type": "code",
      "execution_count": null,
      "metadata": {
        "colab": {
          "base_uri": "https://localhost:8080/"
        },
        "id": "dZDFqU4l2orL",
        "outputId": "5257af66-c46f-4f5f-d094-88f6fd6153c3"
      },
      "outputs": [
        {
          "name": "stdout",
          "output_type": "stream",
          "text": [
            "It's a very complex thing.\n"
          ]
        },
        {
          "name": "stderr",
          "output_type": "stream",
          "text": [
            "/usr/local/lib/python3.11/dist-packages/torch/nn/functional.py:5962: UserWarning: Support for mismatched key_padding_mask and attn_mask is deprecated. Use same type for both instead.\n",
            "  warnings.warn(\n"
          ]
        }
      ],
      "source": [
        "print(translate(model2, sp_zh, sp_en, \"人类的健康也是一件非常复杂的事情。\", device=device))"
      ]
    },
    {
      "cell_type": "code",
      "execution_count": null,
      "metadata": {
        "colab": {
          "base_uri": "https://localhost:8080/"
        },
        "id": "d7topHMC2pWm",
        "outputId": "a84d7aff-0e12-498c-ca0b-a547730e1e68"
      },
      "outputs": [
        {
          "name": "stderr",
          "output_type": "stream",
          "text": [
            "/usr/local/lib/python3.11/dist-packages/torch/nn/functional.py:5962: UserWarning: Support for mismatched key_padding_mask and attn_mask is deprecated. Use same type for both instead.\n",
            "  warnings.warn(\n"
          ]
        },
        {
          "name": "stdout",
          "output_type": "stream",
          "text": [
            "And I think it's important to understand that although we can understand the complexities of two, although we can understand it, it's a bit harder, but it's also a difficult task to understand.\n"
          ]
        }
      ],
      "source": [
        "sentence = \"将两者统一起来看起来是一件艰巨的任务。但我想要试图去说明的是 即使是如此复杂的情况，\\\n",
        "       也存在一些我认为简单的话题， 一些如果我们能理解，就很容易向前发展的话题。\"\n",
        "\n",
        "print(translate(model2, sp_zh, sp_en, sentence, device=device))"
      ]
    },
    {
      "cell_type": "code",
      "execution_count": null,
      "metadata": {
        "colab": {
          "base_uri": "https://localhost:8080/"
        },
        "id": "OpttnSDT2pZg",
        "outputId": "ed90efd4-5391-4c5e-8159-b72499ae4742"
      },
      "outputs": [
        {
          "name": "stdout",
          "output_type": "stream",
          "text": [
            "And these simple themes aren't really complex, but what we know about the complex science of what we're doing.\n"
          ]
        }
      ],
      "source": [
        "sentence = \"这些简单的话题确实不是 有关那复杂的科学有了怎样的发展， 而是一些我们都恰好知道的事情。\"\n",
        "\n",
        "print(translate(model2, sp_zh, sp_en, sentence, device=device))"
      ]
    },
    {
      "cell_type": "markdown",
      "metadata": {
        "id": "G53FjPEDlERm"
      },
      "source": [
        "## 训练集样本外翻译测试"
      ]
    },
    {
      "cell_type": "code",
      "execution_count": null,
      "metadata": {
        "colab": {
          "base_uri": "https://localhost:8080/"
        },
        "id": "o1-pCTG82pbt",
        "outputId": "577325df-31bb-4d71-abab-98ab7629c282"
      },
      "outputs": [
        {
          "name": "stdout",
          "output_type": "stream",
          "text": [
            "Hello.\n"
          ]
        },
        {
          "name": "stderr",
          "output_type": "stream",
          "text": [
            "/usr/local/lib/python3.11/dist-packages/torch/nn/functional.py:5962: UserWarning: Support for mismatched key_padding_mask and attn_mask is deprecated. Use same type for both instead.\n",
            "  warnings.warn(\n"
          ]
        }
      ],
      "source": [
        "print(translate(model2, sp_zh, sp_en, \"你好，世界！\", device=device))"
      ]
    },
    {
      "cell_type": "code",
      "execution_count": null,
      "metadata": {
        "colab": {
          "base_uri": "https://localhost:8080/"
        },
        "id": "IVFHAOy9BBCR",
        "outputId": "2b6ba286-5b21-43bd-a4e8-61014b5bdc78"
      },
      "outputs": [
        {
          "name": "stdout",
          "output_type": "stream",
          "text": [
            "I love learning.\n"
          ]
        },
        {
          "name": "stderr",
          "output_type": "stream",
          "text": [
            "/usr/local/lib/python3.11/dist-packages/torch/nn/functional.py:5962: UserWarning: Support for mismatched key_padding_mask and attn_mask is deprecated. Use same type for both instead.\n",
            "  warnings.warn(\n"
          ]
        }
      ],
      "source": [
        "print(translate(model2, sp_zh, sp_en, \"我爱深度学习！\", device=device))"
      ]
    },
    {
      "cell_type": "code",
      "execution_count": null,
      "metadata": {
        "colab": {
          "base_uri": "https://localhost:8080/"
        },
        "id": "H43bIZ_llJ5i",
        "outputId": "9e6b2088-842d-4558-af09-230144cee09b"
      },
      "outputs": [
        {
          "name": "stdout",
          "output_type": "stream",
          "text": [
            "It's the most powerful way to live, to live, to be able to live without the ocean.\n"
          ]
        }
      ],
      "source": [
        "print(translate(model2, sp_zh, sp_en, \"生活就像海洋，只有意志坚强的人才能到达彼岸\", device=device))"
      ]
    },
    {
      "cell_type": "code",
      "execution_count": null,
      "metadata": {
        "colab": {
          "base_uri": "https://localhost:8080/"
        },
        "id": "J0PC6QFAlJ8M",
        "outputId": "3041f98d-c8e1-4ef6-c9ef-19f6b72273c4"
      },
      "outputs": [
        {
          "name": "stdout",
          "output_type": "stream",
          "text": [
            "Life and poetry are far away.\n"
          ]
        },
        {
          "name": "stderr",
          "output_type": "stream",
          "text": [
            "/usr/local/lib/python3.11/dist-packages/torch/nn/functional.py:5962: UserWarning: Support for mismatched key_padding_mask and attn_mask is deprecated. Use same type for both instead.\n",
            "  warnings.warn(\n"
          ]
        }
      ],
      "source": [
        "print(translate(model2, sp_zh, sp_en, \"生活不止眼前的苟且，还有诗和远方\", device=device))"
      ]
    },
    {
      "cell_type": "markdown",
      "metadata": {
        "id": "6tOyUNVNsCoJ"
      },
      "source": [
        "# 翻译函数优化"
      ]
    },
    {
      "cell_type": "markdown",
      "metadata": {
        "id": "PMsneC8FsiCc"
      },
      "source": [
        "翻译时有三种token预测方式： greedy / beam search / top-k sampling\n",
        "\n",
        "前文用的是greedy贪婪算法，接下来对beam search 和 top-k sampling算法进行尝试"
      ]
    },
    {
      "cell_type": "code",
      "execution_count": 15,
      "metadata": {
        "id": "68FAeXKtz46u"
      },
      "outputs": [],
      "source": [
        "import torch\n",
        "import torch.nn.functional as F"
      ]
    },
    {
      "cell_type": "code",
      "execution_count": 16,
      "metadata": {
        "id": "93hxZD2SsEwl"
      },
      "outputs": [],
      "source": [
        "def translate(model, sp_src, sp_tgt, sentence,\n",
        "              max_len=60, device='cuda',\n",
        "              mode='greedy', top_k=5, beam_width=3):\n",
        "    model.eval()\n",
        "\n",
        "    # 源句子编码 + 填充\n",
        "    src_ids = [1] + sp_src.EncodeAsIds(sentence)[:max_len - 2] + [2]\n",
        "    src_ids += [0] * (max_len - len(src_ids))\n",
        "    src = torch.tensor(src_ids, dtype=torch.long).unsqueeze(0).to(device)\n",
        "\n",
        "    # === greedy search ===\n",
        "    if mode == 'greedy':\n",
        "        tgt_ids = [1]\n",
        "        for _ in range(max_len):\n",
        "            tgt = torch.tensor(tgt_ids, dtype=torch.long).unsqueeze(0).to(device)\n",
        "            with torch.no_grad():\n",
        "                output = model(src, tgt)\n",
        "            next_token = output[0, -1].argmax().item()\n",
        "            tgt_ids.append(next_token)\n",
        "            if next_token == 2:\n",
        "                break\n",
        "        return sp_tgt.DecodeIds(tgt_ids[1:-1] if 2 in tgt_ids else tgt_ids[1:])\n",
        "\n",
        "    # === top-k sampling ===\n",
        "    elif mode == 'topk':\n",
        "        tgt_ids = [1]\n",
        "        for _ in range(max_len):\n",
        "            tgt = torch.tensor(tgt_ids, dtype=torch.long).unsqueeze(0).to(device)\n",
        "            with torch.no_grad():\n",
        "                output = model(src, tgt)\n",
        "            logits = output[0, -1]\n",
        "            topk_vals, topk_ids = torch.topk(logits, k=top_k)\n",
        "            probs = F.softmax(topk_vals, dim=0)\n",
        "            next_token = topk_ids[torch.multinomial(probs, 1)].item()\n",
        "            tgt_ids.append(next_token)\n",
        "            if next_token == 2:\n",
        "                break\n",
        "        return sp_tgt.DecodeIds(tgt_ids[1:-1] if 2 in tgt_ids else tgt_ids[1:])\n",
        "\n",
        "    # === beam search ===\n",
        "    elif mode == 'beam':\n",
        "        beams = [([1], 0)]  # (token_ids, score)\n",
        "        for _ in range(max_len):\n",
        "            new_beams = []\n",
        "            for seq, score in beams:\n",
        "                if seq[-1] == 2:\n",
        "                    new_beams.append((seq, score))\n",
        "                    continue\n",
        "                tgt = torch.tensor(seq, dtype=torch.long).unsqueeze(0).to(device)\n",
        "                with torch.no_grad():\n",
        "                    output = model(src, tgt)\n",
        "                log_probs = F.log_softmax(output[0, -1], dim=-1)\n",
        "                topk_vals, topk_ids = torch.topk(log_probs, k=beam_width)\n",
        "                for log_p, token_id in zip(topk_vals, topk_ids):\n",
        "                    new_seq = seq + [token_id.item()]\n",
        "                    new_score = score + log_p.item()\n",
        "                    new_beams.append((new_seq, new_score))\n",
        "            beams = sorted(new_beams, key=lambda x: x[1], reverse=True)[:beam_width]\n",
        "            if all(seq[-1] == 2 for seq, _ in beams):\n",
        "                break\n",
        "        best_seq = beams[0][0]\n",
        "        return sp_tgt.DecodeIds(best_seq[1:-1] if 2 in best_seq else best_seq[1:])\n",
        "\n",
        "    else:\n",
        "        raise ValueError(f\"Unsupported mode: {mode}\")\n"
      ]
    },
    {
      "cell_type": "code",
      "execution_count": 17,
      "metadata": {
        "id": "XLvohCdOtBCu"
      },
      "outputs": [
        {
          "name": "stderr",
          "output_type": "stream",
          "text": [
            "d:\\anaconda3\\envs\\DL\\Lib\\site-packages\\torch\\nn\\functional.py:5849: UserWarning: Support for mismatched key_padding_mask and attn_mask is deprecated. Use same type for both instead.\n",
            "  warnings.warn(\n"
          ]
        },
        {
          "data": {
            "text/plain": [
              "'Can we meet meet meet meet meet meet?'"
            ]
          },
          "execution_count": 17,
          "metadata": {},
          "output_type": "execute_result"
        }
      ],
      "source": [
        "sp_src = sp_zh\n",
        "sp_tgt = sp_en\n",
        "translate(model, sp_src, sp_tgt, \"我们可以见面吗？\", mode='greedy')"
      ]
    },
    {
      "cell_type": "code",
      "execution_count": null,
      "metadata": {
        "colab": {
          "base_uri": "https://localhost:8080/",
          "height": 35
        },
        "id": "w8KqOOR7tTG7",
        "outputId": "1bb9569b-2408-41cd-feea-e24fa2520fea"
      },
      "outputs": [
        {
          "data": {
            "application/vnd.google.colaboratory.intrinsic+json": {
              "type": "string"
            },
            "text/plain": [
              "'Thank you.'"
            ]
          },
          "execution_count": 68,
          "metadata": {},
          "output_type": "execute_result"
        }
      ],
      "source": [
        "translate(model, sp_src, sp_tgt, \"谢谢你！\", mode='topk', top_k=8)"
      ]
    },
    {
      "cell_type": "code",
      "execution_count": null,
      "metadata": {
        "colab": {
          "base_uri": "https://localhost:8080/",
          "height": 35
        },
        "id": "qha2ObB9tUZg",
        "outputId": "7c0a9853-b5bb-4efe-d493-61cb7cd697c6"
      },
      "outputs": [
        {
          "data": {
            "application/vnd.google.colaboratory.intrinsic+json": {
              "type": "string"
            },
            "text/plain": [
              "\"Where's the end of the world?\""
            ]
          },
          "execution_count": 69,
          "metadata": {},
          "output_type": "execute_result"
        }
      ],
      "source": [
        "translate(model, sp_src, sp_tgt, \"世界的尽头是哪里？\", mode='beam', beam_width=5)"
      ]
    },
    {
      "cell_type": "markdown",
      "metadata": {
        "id": "mMnJ7vDltboN"
      },
      "source": [
        "## beam search"
      ]
    },
    {
      "cell_type": "code",
      "execution_count": null,
      "metadata": {
        "colab": {
          "base_uri": "https://localhost:8080/",
          "height": 35
        },
        "id": "aBA073VYtdzt",
        "outputId": "1840e0be-07a5-472e-beb7-c16a2eac5187"
      },
      "outputs": [
        {
          "data": {
            "application/vnd.google.colaboratory.intrinsic+json": {
              "type": "string"
            },
            "text/plain": [
              "'Hello, worlds!'"
            ]
          },
          "execution_count": 63,
          "metadata": {},
          "output_type": "execute_result"
        }
      ],
      "source": [
        "translate(model, sp_zh, sp_en, \"你好，世界！\", mode='beam', beam_width=5)"
      ]
    },
    {
      "cell_type": "code",
      "execution_count": null,
      "metadata": {
        "colab": {
          "base_uri": "https://localhost:8080/",
          "height": 35
        },
        "id": "qszVgM_2tn0p",
        "outputId": "f391a69d-5f47-47d5-d443-79e11a9ed2b0"
      },
      "outputs": [
        {
          "data": {
            "application/vnd.google.colaboratory.intrinsic+json": {
              "type": "string"
            },
            "text/plain": [
              "'I love being able to learn that depth.'"
            ]
          },
          "execution_count": 64,
          "metadata": {},
          "output_type": "execute_result"
        }
      ],
      "source": [
        "translate(model, sp_zh, sp_en, \"我爱深度学习！\", mode='beam', beam_width=5)"
      ]
    },
    {
      "cell_type": "code",
      "execution_count": null,
      "metadata": {
        "colab": {
          "base_uri": "https://localhost:8080/",
          "height": 35
        },
        "id": "0No7Xdz2t80q",
        "outputId": "f39319cf-8898-4ed6-8633-5bc09d87ade7"
      },
      "outputs": [
        {
          "data": {
            "application/vnd.google.colaboratory.intrinsic+json": {
              "type": "string"
            },
            "text/plain": [
              "'Normally, it was only going to be near-in-the-powerful to the ocean.'"
            ]
          },
          "execution_count": 65,
          "metadata": {},
          "output_type": "execute_result"
        }
      ],
      "source": [
        "translate(model, sp_zh, sp_en, \"生活就像海洋，只有意志坚强的人才能到达彼岸\", mode='beam', beam_width=5)"
      ]
    },
    {
      "cell_type": "code",
      "execution_count": null,
      "metadata": {
        "colab": {
          "base_uri": "https://localhost:8080/",
          "height": 35
        },
        "id": "-IyZ8_fYuEH6",
        "outputId": "fe252808-b5ab-4a7e-8354-2f6ab394eac0"
      },
      "outputs": [
        {
          "data": {
            "application/vnd.google.colaboratory.intrinsic+json": {
              "type": "string"
            },
            "text/plain": [
              "'Allow your eyes and your life backy life.'"
            ]
          },
          "execution_count": 66,
          "metadata": {},
          "output_type": "execute_result"
        }
      ],
      "source": [
        "translate(model, sp_zh, sp_en, \"生活不止眼前的苟且，还有诗和远方\", mode='beam', beam_width=5)"
      ]
    },
    {
      "cell_type": "markdown",
      "metadata": {
        "id": "u4edq-qeugpk"
      },
      "source": [
        "## top-k sampling"
      ]
    },
    {
      "cell_type": "code",
      "execution_count": null,
      "metadata": {
        "colab": {
          "base_uri": "https://localhost:8080/",
          "height": 90
        },
        "id": "CxaZZmN6ukL-",
        "outputId": "81687c0b-48fa-4e88-fddd-182a0f47461e"
      },
      "outputs": [
        {
          "name": "stderr",
          "output_type": "stream",
          "text": [
            "/usr/local/lib/python3.11/dist-packages/torch/nn/functional.py:5962: UserWarning: Support for mismatched key_padding_mask and attn_mask is deprecated. Use same type for both instead.\n",
            "  warnings.warn(\n"
          ]
        },
        {
          "data": {
            "application/vnd.google.colaboratory.intrinsic+json": {
              "type": "string"
            },
            "text/plain": [
              "'Hello, worlds!'"
            ]
          },
          "execution_count": 76,
          "metadata": {},
          "output_type": "execute_result"
        }
      ],
      "source": [
        "translate(model, sp_src, sp_tgt, \"你好，世界！\", mode='topk', top_k=5)"
      ]
    },
    {
      "cell_type": "code",
      "execution_count": null,
      "metadata": {
        "colab": {
          "base_uri": "https://localhost:8080/",
          "height": 35
        },
        "id": "_sLC130lukXV",
        "outputId": "bb849ff4-a0f5-4620-850b-2200365da0a8"
      },
      "outputs": [
        {
          "data": {
            "application/vnd.google.colaboratory.intrinsic+json": {
              "type": "string"
            },
            "text/plain": [
              "'I love being able to learn by such.'"
            ]
          },
          "execution_count": 77,
          "metadata": {},
          "output_type": "execute_result"
        }
      ],
      "source": [
        "translate(model, sp_src, sp_tgt, \"我爱深度学习！\", mode='topk', top_k=5)"
      ]
    },
    {
      "cell_type": "code",
      "execution_count": null,
      "metadata": {
        "colab": {
          "base_uri": "https://localhost:8080/",
          "height": 35
        },
        "id": "KrPDH4NpukaZ",
        "outputId": "fa19e456-2e75-40bc-9da1-e851b8d34f8d"
      },
      "outputs": [
        {
          "data": {
            "application/vnd.google.colaboratory.intrinsic+json": {
              "type": "string"
            },
            "text/plain": [
              "'The ocean was only able to get to pretty late, so groups would be able to reach the ocean.'"
            ]
          },
          "execution_count": 78,
          "metadata": {},
          "output_type": "execute_result"
        }
      ],
      "source": [
        "translate(model, sp_src, sp_tgt, \"生活就像海洋，只有意志坚强的人才能到达彼岸\", mode='topk', top_k=5)"
      ]
    },
    {
      "cell_type": "code",
      "execution_count": null,
      "metadata": {
        "colab": {
          "base_uri": "https://localhost:8080/",
          "height": 35
        },
        "id": "fSBPpe6Iukc5",
        "outputId": "9e823854-1124-4a47-e8a6-8dc5e798d650"
      },
      "outputs": [
        {
          "data": {
            "application/vnd.google.colaboratory.intrinsic+json": {
              "type": "string"
            },
            "text/plain": [
              "'A psecong between my eyes and the cat.'"
            ]
          },
          "execution_count": 79,
          "metadata": {},
          "output_type": "execute_result"
        }
      ],
      "source": [
        "translate(model, sp_src, sp_tgt, \"生活不止眼前的苟且，还有诗和远方\", mode='topk', top_k=5)"
      ]
    },
    {
      "cell_type": "markdown",
      "metadata": {
        "id": "pr7oVj0RwKtU"
      },
      "source": [
        "## BLEU评估"
      ]
    },
    {
      "cell_type": "markdown",
      "metadata": {
        "id": "8CONl6G2xB0j"
      },
      "source": [
        "读取翻译样本集translation_samples，里面包含的句子类型有：\n",
        "\n",
        "基础简单句，一般陈述句，否定句/时态，疑问句，连词 / 复合句，长句/学术类，歧义/需要语境"
      ]
    },
    {
      "cell_type": "code",
      "execution_count": null,
      "metadata": {},
      "outputs": [
        {
          "name": "stdout",
          "output_type": "stream",
          "text": [
            "Collecting nltk\n",
            "  Downloading nltk-3.9.1-py3-none-any.whl.metadata (2.9 kB)\n",
            "Collecting click (from nltk)\n",
            "  Downloading click-8.2.1-py3-none-any.whl.metadata (2.5 kB)\n",
            "Requirement already satisfied: joblib in d:\\anaconda3\\envs\\dl\\lib\\site-packages (from nltk) (1.4.2)\n",
            "Requirement already satisfied: regex>=2021.8.3 in d:\\anaconda3\\envs\\dl\\lib\\site-packages (from nltk) (2024.11.6)\n",
            "Requirement already satisfied: tqdm in d:\\anaconda3\\envs\\dl\\lib\\site-packages (from nltk) (4.67.1)\n",
            "Requirement already satisfied: colorama in d:\\anaconda3\\envs\\dl\\lib\\site-packages (from click->nltk) (0.4.6)\n",
            "Downloading nltk-3.9.1-py3-none-any.whl (1.5 MB)\n",
            "   ---------------------------------------- 0.0/1.5 MB ? eta -:--:--\n",
            "   ---------------------------------------- 0.0/1.5 MB ? eta -:--:--\n",
            "   ---------------------------------------- 0.0/1.5 MB ? eta -:--:--\n",
            "   ---------------------------------------- 0.0/1.5 MB ? eta -:--:--\n",
            "   ---------------------------------------- 0.0/1.5 MB ? eta -:--:--\n",
            "   ------ --------------------------------- 0.3/1.5 MB ? eta -:--:--\n",
            "   ------------- -------------------------- 0.5/1.5 MB 1.1 MB/s eta 0:00:01\n",
            "   --------------------------- ------------ 1.0/1.5 MB 1.4 MB/s eta 0:00:01\n",
            "   ---------------------------------------- 1.5/1.5 MB 1.8 MB/s eta 0:00:00\n",
            "Downloading click-8.2.1-py3-none-any.whl (102 kB)\n",
            "Installing collected packages: click, nltk\n",
            "Successfully installed click-8.2.1 nltk-3.9.1\n"
          ]
        }
      ],
      "source": [
        "#!pip install nltk"
      ]
    },
    {
      "cell_type": "code",
      "execution_count": 20,
      "metadata": {
        "id": "vokXrhiLwN7O"
      },
      "outputs": [],
      "source": [
        "from nltk.translate.bleu_score import sentence_bleu, SmoothingFunction\n",
        "import pandas as pd\n",
        "from tqdm import tqdm\n",
        "import matplotlib.pyplot as plt"
      ]
    },
    {
      "cell_type": "code",
      "execution_count": 22,
      "metadata": {
        "id": "JnMASx6l4A86"
      },
      "outputs": [],
      "source": [
        "# 读取制表符分隔的txt文件\n",
        "translation_samples_path = \"translation_samples.txt\"\n",
        "df = pd.read_csv(translation_samples_path, sep=\"\\t\", header=None, names=[\"zh\", \"en\"], encoding=\"utf-8\")\n",
        "\n",
        "smooth_fn = SmoothingFunction().method1"
      ]
    },
    {
      "cell_type": "code",
      "execution_count": 23,
      "metadata": {
        "colab": {
          "base_uri": "https://localhost:8080/",
          "height": 391
        },
        "id": "qwPj6rP4wSSQ",
        "outputId": "5a84329d-d1ca-4d21-ec66-aa9986a98514"
      },
      "outputs": [
        {
          "name": "stderr",
          "output_type": "stream",
          "text": [
            "  0%|          | 0/21 [00:00<?, ?it/s]d:\\anaconda3\\envs\\DL\\Lib\\site-packages\\torch\\nn\\functional.py:5849: UserWarning: Support for mismatched key_padding_mask and attn_mask is deprecated. Use same type for both instead.\n",
            "  warnings.warn(\n",
            "100%|██████████| 21/21 [00:01<00:00, 13.02it/s]\n",
            "100%|██████████| 21/21 [00:06<00:00,  3.08it/s]\n",
            "100%|██████████| 21/21 [00:01<00:00, 13.60it/s]"
          ]
        },
        {
          "name": "stdout",
          "output_type": "stream",
          "text": [
            "Mode: greedy, Avg BLEU: 0.1630\n",
            "Mode: beam, Avg BLEU: 0.2050\n",
            "Mode: topk, Avg BLEU: 0.0476\n"
          ]
        },
        {
          "name": "stderr",
          "output_type": "stream",
          "text": [
            "\n"
          ]
        }
      ],
      "source": [
        "def calc_bleu(reference, hypothesis):\n",
        "    ref_tokens = reference.lower().split()\n",
        "    hyp_tokens = hypothesis.lower().split()\n",
        "    return sentence_bleu([ref_tokens], hyp_tokens, smoothing_function=smooth_fn)\n",
        "\n",
        "modes = [\"greedy\", \"beam\", \"topk\"]\n",
        "results = {mode: [] for mode in modes}\n",
        "\n",
        "for mode in modes:\n",
        "    for sent_zh, sent_en_ref in tqdm(zip(df[\"zh\"], df[\"en\"]), total=len(df)):\n",
        "        pred_en = translate(model, sp_src, sp_tgt, sent_zh, mode=mode, top_k=5, beam_width=5)\n",
        "        bleu = calc_bleu(sent_en_ref, pred_en)\n",
        "        results[mode].append(bleu)\n",
        "\n",
        "for mode in modes:\n",
        "    avg_bleu = sum(results[mode]) / len(results[mode])\n",
        "    print(f\"Mode: {mode}, Avg BLEU: {avg_bleu:.4f}\")"
      ]
    },
    {
      "cell_type": "code",
      "execution_count": null,
      "metadata": {
        "colab": {
          "base_uri": "https://localhost:8080/",
          "height": 1000
        },
        "id": "x6cgDSViywRE",
        "outputId": "ec2bc6ad-fc14-4541-dbd6-4b57cf5bd3f3"
      },
      "outputs": [
        {
          "name": "stderr",
          "output_type": "stream",
          "text": [
            "/tmp/ipython-input-84-1266909311.py:14: MatplotlibDeprecationWarning: The 'labels' parameter of boxplot() has been renamed 'tick_labels' since Matplotlib 3.9; support for the old name will be dropped in 3.11.\n",
            "  plt.boxplot([results[m] for m in modes], labels=modes)\n"
          ]
        },
        {
          "data": {
            "image/png": "[encoded data removed]",
            "text/plain": [
              "<Figure size 1000x500 with 1 Axes>"
            ]
          },
          "metadata": {},
          "output_type": "display_data"
        },
        {
          "data": {
            "image/png": "[encoded data removed]",
            "text/plain": [
              "<Figure size 800x600 with 1 Axes>"
            ]
          },
          "metadata": {},
          "output_type": "display_data"
        }
      ],
      "source": [
        "plt.figure(figsize=(10, 5))\n",
        "for mode in modes:\n",
        "    plt.plot(range(len(results[mode])), results[mode], label=mode, marker='o')\n",
        "plt.title(\"Sentence-level BLEU Score Comparison\")\n",
        "plt.xlabel(\"Sentence Index\")\n",
        "plt.ylabel(\"BLEU Score\")\n",
        "plt.legend()\n",
        "plt.grid(True)\n",
        "plt.tight_layout()\n",
        "plt.savefig(\"bleu_trend.png\")\n",
        "\n",
        "# 箱线图：BLEU 分布\n",
        "plt.figure(figsize=(8, 6))\n",
        "plt.boxplot([results[m] for m in modes], labels=modes)\n",
        "plt.title(\"BLEU Score Distribution by Decoding Strategy\")\n",
        "plt.ylabel(\"BLEU Score\")\n",
        "plt.grid(True)\n",
        "plt.tight_layout()\n",
        "plt.savefig(\"bleu_boxplot.png\")"
      ]
    },
    {
      "cell_type": "markdown",
      "metadata": {
        "id": "xStsZSL6zbvV"
      },
      "source": [
        "## beam search和top-k sampling优化"
      ]
    },
    {
      "cell_type": "code",
      "execution_count": 31,
      "metadata": {
        "colab": {
          "base_uri": "https://localhost:8080/"
        },
        "id": "H5x1fHHCzawz",
        "outputId": "bd52be21-15b7-4db1-9245-048bd3260964"
      },
      "outputs": [
        {
          "name": "stdout",
          "output_type": "stream",
          "text": [
            "\n",
            "📌 Evaluating beam_width = 3\n"
          ]
        },
        {
          "name": "stderr",
          "output_type": "stream",
          "text": [
            "Beam 3:   0%|          | 0/21 [00:00<?, ?it/s]d:\\anaconda3\\envs\\DL\\Lib\\site-packages\\torch\\nn\\functional.py:5849: UserWarning: Support for mismatched key_padding_mask and attn_mask is deprecated. Use same type for both instead.\n",
            "  warnings.warn(\n",
            "Beam 3: 100%|██████████| 21/21 [00:04<00:00,  4.52it/s]\n"
          ]
        },
        {
          "name": "stdout",
          "output_type": "stream",
          "text": [
            "\n",
            "📌 Evaluating beam_width = 4\n"
          ]
        },
        {
          "name": "stderr",
          "output_type": "stream",
          "text": [
            "Beam 4: 100%|██████████| 21/21 [00:05<00:00,  3.56it/s]\n"
          ]
        },
        {
          "name": "stdout",
          "output_type": "stream",
          "text": [
            "\n",
            "📌 Evaluating beam_width = 5\n"
          ]
        },
        {
          "name": "stderr",
          "output_type": "stream",
          "text": [
            "Beam 5: 100%|██████████| 21/21 [00:07<00:00,  2.77it/s]\n"
          ]
        },
        {
          "name": "stdout",
          "output_type": "stream",
          "text": [
            "\n",
            "📌 Evaluating beam_width = 6\n"
          ]
        },
        {
          "name": "stderr",
          "output_type": "stream",
          "text": [
            "Beam 6: 100%|██████████| 21/21 [00:08<00:00,  2.34it/s]\n"
          ]
        },
        {
          "name": "stdout",
          "output_type": "stream",
          "text": [
            "\n",
            "📌 Evaluating beam_width = 7\n"
          ]
        },
        {
          "name": "stderr",
          "output_type": "stream",
          "text": [
            "Beam 7: 100%|██████████| 21/21 [00:10<00:00,  1.92it/s]\n"
          ]
        },
        {
          "name": "stdout",
          "output_type": "stream",
          "text": [
            "\n",
            "📌 Evaluating beam_width = 8\n"
          ]
        },
        {
          "name": "stderr",
          "output_type": "stream",
          "text": [
            "Beam 8: 100%|██████████| 21/21 [00:12<00:00,  1.71it/s]\n"
          ]
        },
        {
          "name": "stdout",
          "output_type": "stream",
          "text": [
            "\n",
            "📌 Evaluating beam_width = 9\n"
          ]
        },
        {
          "name": "stderr",
          "output_type": "stream",
          "text": [
            "Beam 9: 100%|██████████| 21/21 [00:14<00:00,  1.45it/s]\n"
          ]
        },
        {
          "name": "stdout",
          "output_type": "stream",
          "text": [
            "\n",
            "📌 Evaluating beam_width = 10\n"
          ]
        },
        {
          "name": "stderr",
          "output_type": "stream",
          "text": [
            "Beam 10: 100%|██████████| 21/21 [00:16<00:00,  1.24it/s]\n"
          ]
        },
        {
          "name": "stdout",
          "output_type": "stream",
          "text": [
            "\n",
            "📌 Evaluating beam_width = 11\n"
          ]
        },
        {
          "name": "stderr",
          "output_type": "stream",
          "text": [
            "Beam 11: 100%|██████████| 21/21 [00:18<00:00,  1.15it/s]\n"
          ]
        },
        {
          "name": "stdout",
          "output_type": "stream",
          "text": [
            "\n",
            "📌 Evaluating beam_width = 12\n"
          ]
        },
        {
          "name": "stderr",
          "output_type": "stream",
          "text": [
            "Beam 12: 100%|██████████| 21/21 [00:19<00:00,  1.08it/s]"
          ]
        },
        {
          "name": "stdout",
          "output_type": "stream",
          "text": [
            "Beam width 3 → Avg BLEU: 0.1994\n",
            "Beam width 4 → Avg BLEU: 0.2038\n",
            "Beam width 5 → Avg BLEU: 0.2050\n",
            "Beam width 6 → Avg BLEU: 0.2050\n",
            "Beam width 7 → Avg BLEU: 0.2050\n",
            "Beam width 8 → Avg BLEU: 0.2052\n",
            "Beam width 9 → Avg BLEU: 0.2052\n",
            "Beam width 10 → Avg BLEU: 0.2052\n",
            "Beam width 11 → Avg BLEU: 0.2052\n",
            "Beam width 12 → Avg BLEU: 0.2052\n"
          ]
        },
        {
          "name": "stderr",
          "output_type": "stream",
          "text": [
            "\n"
          ]
        }
      ],
      "source": [
        "# ==== 设置 Beam Width 范围 ====\n",
        "beam_range = list(range(3, 13))  # Beam Width = 3 到 12\n",
        "beam_bleu_scores = {bw: [] for bw in beam_range}\n",
        "\n",
        "# ==== 执行翻译 + BLEU 评估 ====\n",
        "for bw in beam_range:\n",
        "    print(f\"\\n📌 Evaluating beam_width = {bw}\")\n",
        "    for zh, en_ref in tqdm(zip(df[\"zh\"], df[\"en\"]), total=len(df), desc=f\"Beam {bw}\"):\n",
        "        pred = translate(model, sp_src, sp_tgt, zh, mode=\"beam\", beam_width=bw)\n",
        "        bleu = calc_bleu(en_ref, pred)\n",
        "        beam_bleu_scores[bw].append(bleu)\n",
        "\n",
        "# ==== 计算平均 BLEU 分数 ====\n",
        "beam_avg_bleus = [sum(beam_bleu_scores[bw]) / len(beam_bleu_scores[bw]) for bw in beam_range]\n",
        "\n",
        "# ==== 打印结果 ====\n",
        "for bw, bleu in zip(beam_range, beam_avg_bleus):\n",
        "    print(f\"Beam width {bw} → Avg BLEU: {bleu:.4f}\")"
      ]
    },
    {
      "cell_type": "code",
      "execution_count": 32,
      "metadata": {
        "colab": {
          "base_uri": "https://localhost:8080/",
          "height": 507
        },
        "id": "zy0FTLcBzZZA",
        "outputId": "a0f5b420-aa3d-4bc4-d03c-b6cb12003cc2"
      },
      "outputs": [
        {
          "data": {
            "image/png": "[encoded data removed]",
            "text/plain": [
              "<Figure size 800x500 with 1 Axes>"
            ]
          },
          "metadata": {},
          "output_type": "display_data"
        }
      ],
      "source": [
        "# ==== 可视化 BLEU vs beam_width ====\n",
        "plt.figure(figsize=(8, 5))\n",
        "plt.plot(beam_range, beam_avg_bleus, marker='o', linestyle='-', color='teal')\n",
        "plt.title(\"Average BLEU Score vs Beam Width\")\n",
        "plt.xlabel(\"Beam Width\")\n",
        "plt.ylabel(\"Average BLEU Score\")\n",
        "plt.grid(True, linestyle='--', alpha=0.6)\n",
        "plt.xticks(beam_range)\n",
        "plt.tight_layout()\n",
        "plt.savefig(\"beam_bleu_curve.png\")\n",
        "plt.show()"
      ]
    },
    {
      "cell_type": "code",
      "execution_count": 33,
      "metadata": {
        "colab": {
          "base_uri": "https://localhost:8080/",
          "height": 245
        },
        "id": "cAHGYl2g1uJc",
        "outputId": "f5bb31fc-a4f8-4233-c0a2-072278de5260"
      },
      "outputs": [
        {
          "name": "stdout",
          "output_type": "stream",
          "text": [
            "\n",
            "📌 Evaluating top_k = 3\n"
          ]
        },
        {
          "name": "stderr",
          "output_type": "stream",
          "text": [
            "Top-k 3:   0%|          | 0/21 [00:00<?, ?it/s]d:\\anaconda3\\envs\\DL\\Lib\\site-packages\\torch\\nn\\functional.py:5849: UserWarning: Support for mismatched key_padding_mask and attn_mask is deprecated. Use same type for both instead.\n",
            "  warnings.warn(\n",
            "Top-k 3: 100%|██████████| 21/21 [00:01<00:00, 11.53it/s]\n"
          ]
        },
        {
          "name": "stdout",
          "output_type": "stream",
          "text": [
            "\n",
            "📌 Evaluating top_k = 4\n"
          ]
        },
        {
          "name": "stderr",
          "output_type": "stream",
          "text": [
            "Top-k 4: 100%|██████████| 21/21 [00:01<00:00, 14.30it/s]\n"
          ]
        },
        {
          "name": "stdout",
          "output_type": "stream",
          "text": [
            "\n",
            "📌 Evaluating top_k = 5\n"
          ]
        },
        {
          "name": "stderr",
          "output_type": "stream",
          "text": [
            "Top-k 5: 100%|██████████| 21/21 [00:01<00:00, 14.06it/s]\n"
          ]
        },
        {
          "name": "stdout",
          "output_type": "stream",
          "text": [
            "\n",
            "📌 Evaluating top_k = 6\n"
          ]
        },
        {
          "name": "stderr",
          "output_type": "stream",
          "text": [
            "Top-k 6: 100%|██████████| 21/21 [00:01<00:00, 13.60it/s]\n"
          ]
        },
        {
          "name": "stdout",
          "output_type": "stream",
          "text": [
            "\n",
            "📌 Evaluating top_k = 7\n"
          ]
        },
        {
          "name": "stderr",
          "output_type": "stream",
          "text": [
            "Top-k 7: 100%|██████████| 21/21 [00:01<00:00, 13.86it/s]\n"
          ]
        },
        {
          "name": "stdout",
          "output_type": "stream",
          "text": [
            "\n",
            "📌 Evaluating top_k = 8\n"
          ]
        },
        {
          "name": "stderr",
          "output_type": "stream",
          "text": [
            "Top-k 8: 100%|██████████| 21/21 [00:01<00:00, 13.28it/s]\n"
          ]
        },
        {
          "name": "stdout",
          "output_type": "stream",
          "text": [
            "\n",
            "📌 Evaluating top_k = 9\n"
          ]
        },
        {
          "name": "stderr",
          "output_type": "stream",
          "text": [
            "Top-k 9: 100%|██████████| 21/21 [00:01<00:00, 12.60it/s]\n"
          ]
        },
        {
          "name": "stdout",
          "output_type": "stream",
          "text": [
            "\n",
            "📌 Evaluating top_k = 10\n"
          ]
        },
        {
          "name": "stderr",
          "output_type": "stream",
          "text": [
            "Top-k 10: 100%|██████████| 21/21 [00:01<00:00, 13.54it/s]\n"
          ]
        },
        {
          "name": "stdout",
          "output_type": "stream",
          "text": [
            "\n",
            "📌 Evaluating top_k = 11\n"
          ]
        },
        {
          "name": "stderr",
          "output_type": "stream",
          "text": [
            "Top-k 11: 100%|██████████| 21/21 [00:01<00:00, 14.87it/s]\n"
          ]
        },
        {
          "name": "stdout",
          "output_type": "stream",
          "text": [
            "\n",
            "📌 Evaluating top_k = 12\n"
          ]
        },
        {
          "name": "stderr",
          "output_type": "stream",
          "text": [
            "Top-k 12: 100%|██████████| 21/21 [00:01<00:00, 14.07it/s]"
          ]
        },
        {
          "name": "stdout",
          "output_type": "stream",
          "text": [
            "Top-k 3 → Avg BLEU: 0.0839\n",
            "Top-k 4 → Avg BLEU: 0.1216\n",
            "Top-k 5 → Avg BLEU: 0.1403\n",
            "Top-k 6 → Avg BLEU: 0.1025\n",
            "Top-k 7 → Avg BLEU: 0.1126\n",
            "Top-k 8 → Avg BLEU: 0.1188\n",
            "Top-k 9 → Avg BLEU: 0.1071\n",
            "Top-k 10 → Avg BLEU: 0.1241\n",
            "Top-k 11 → Avg BLEU: 0.1275\n",
            "Top-k 12 → Avg BLEU: 0.1067\n"
          ]
        },
        {
          "name": "stderr",
          "output_type": "stream",
          "text": [
            "\n"
          ]
        }
      ],
      "source": [
        "# ==== 设置 top-k 范围 ====\n",
        "topk_range = list(range(3, 13))  # top-k = 3 到 12\n",
        "topk_bleu_scores = {k: [] for k in topk_range}\n",
        "\n",
        "# ==== 执行翻译 + BLEU 评估 ====\n",
        "for k in topk_range:\n",
        "    print(f\"\\n📌 Evaluating top_k = {k}\")\n",
        "    for zh, en_ref in tqdm(zip(df[\"zh\"], df[\"en\"]), total=len(df), desc=f\"Top-k {k}\"):\n",
        "        pred = translate(model, sp_src, sp_tgt, zh, mode=\"topk\", top_k=k)\n",
        "        bleu = calc_bleu(en_ref, pred)\n",
        "        topk_bleu_scores[k].append(bleu)\n",
        "\n",
        "# ==== 计算平均 BLEU 分数 ====\n",
        "topk_bleu_scores = [sum(topk_bleu_scores[k]) / len(topk_bleu_scores[k]) for k in topk_range]\n",
        "\n",
        "# ==== 打印结果 ====\n",
        "for k, bleu in zip(topk_range, topk_bleu_scores):\n",
        "    print(f\"Top-k {k} → Avg BLEU: {bleu:.4f}\")\n"
      ]
    },
    {
      "cell_type": "code",
      "execution_count": null,
      "metadata": {
        "id": "Kw7N9YZz2Ydt"
      },
      "outputs": [
        {
          "data": {
            "image/png": "[encoded data removed]",
            "text/plain": [
              "<Figure size 800x500 with 1 Axes>"
            ]
          },
          "metadata": {},
          "output_type": "display_data"
        }
      ],
      "source": [
        "# ==== 可视化 BLEU 分数与 top-k 关系 ====\n",
        "plt.figure(figsize=(8,5))\n",
        "plt.plot(topk_range, topk_bleu_scores, marker='o', color='tab:blue')\n",
        "plt.title(\"BLEU Score vs Top-k Sampling Parameter\")\n",
        "plt.xlabel(\"Top-k Value\")\n",
        "plt.ylabel(\"Average BLEU Score\")\n",
        "plt.grid(True)\n",
        "plt.show()"
      ]
    },
    {
      "cell_type": "code",
      "execution_count": 36,
      "metadata": {},
      "outputs": [
        {
          "data": {
            "image/png": "[encoded data removed]",
            "text/plain": [
              "<Figure size 1000x600 with 1 Axes>"
            ]
          },
          "metadata": {},
          "output_type": "display_data"
        }
      ],
      "source": [
        "# 可视化对比\n",
        "plt.figure(figsize=(10,6))\n",
        "plt.plot(topk_range, topk_bleu_scores, marker='o', label='Top-k Sampling', color='tab:blue')\n",
        "plt.plot(beam_range, beam_avg_bleus, marker='s', label='Beam Search', color='tab:orange')\n",
        "plt.title(\"BLEU Score Comparison: Top-k Sampling vs Beam Search\")\n",
        "plt.xlabel(\"Parameter Value (Top-k or Beam Width)\")\n",
        "plt.ylabel(\"Average BLEU Score\")\n",
        "plt.xticks(topk_range)\n",
        "plt.grid(True)\n",
        "plt.legend()\n",
        "plt.show()\n"
      ]
    },
    {
      "cell_type": "markdown",
      "metadata": {},
      "source": [
        "综上可知，beam search（beam width=8）翻译函数表现最优。接下来尝试一下beam search的翻译效果。"
      ]
    },
    {
      "cell_type": "code",
      "execution_count": 37,
      "metadata": {},
      "outputs": [
        {
          "name": "stderr",
          "output_type": "stream",
          "text": [
            "Translating with Beam Width = 8: 100%|██████████| 21/21 [00:11<00:00,  1.86it/s]"
          ]
        },
        {
          "name": "stdout",
          "output_type": "stream",
          "text": [
            "\n",
            "✅ 翻译完成，结果保存在: beam8_translations.txt\n"
          ]
        },
        {
          "name": "stderr",
          "output_type": "stream",
          "text": [
            "\n"
          ]
        }
      ],
      "source": [
        "output_path = \"beam8_translations.txt\"\n",
        "\n",
        "with open(\"translation_samples.txt\", encoding=\"utf-8\") as f:\n",
        "    lines = f.readlines()\n",
        "\n",
        "with open(output_path, \"w\", encoding=\"utf-8\") as f_out:\n",
        "    for line in tqdm(lines, desc=\"Translating with Beam Width = 8\"):\n",
        "        if not line.strip():\n",
        "            continue\n",
        "        zh, en_ref = line.strip().split(\"\\t\")\n",
        "        en_pred = translate(model, sp_src, sp_tgt, zh, mode=\"beam\", beam_width=8)\n",
        "\n",
        "        f_out.write(f\"原文: {zh}\\n\")\n",
        "        f_out.write(f\"参考: {en_ref}\\n\")\n",
        "        f_out.write(f\"翻译: {en_pred}\\n\\n\")\n",
        "\n",
        "print(f\"\\n✅ 翻译完成，结果保存在: {output_path}\")"
      ]
    },
    {
      "cell_type": "markdown",
      "metadata": {},
      "source": [
        "原文: 你好。\n",
        "参考: Hello.\n",
        "翻译: Hello there.\n",
        "\n",
        "原文: 谢谢你。\n",
        "参考: Thank you.\n",
        "翻译: Thank you.\n",
        "\n",
        "原文: 我喜欢这本书。\n",
        "参考: I like this book.\n",
        "翻译: And I loved this book.\n",
        "\n",
        "原文: 今天天气很好。\n",
        "参考: The weather is nice today.\n",
        "翻译: It's very good weather.\n",
        "\n",
        "原文: 他正在看电视。\n",
        "参考: He is watching TV.\n",
        "翻译: So he's walking.\n",
        "\n",
        "原文: 她住在北京。\n",
        "参考: She lives in Beijing.\n",
        "翻译: She lives in Beijing.\n",
        "\n",
        "原文: 我不喜欢咖啡。\n",
        "参考: I don't like coffee.\n",
        "翻译: I don't like coffee.\n",
        "\n",
        "原文: 我昨天没去上班。\n",
        "参考: I didn't go to work yesterday.\n",
        "翻译: I wasn't there yesterday.\n",
        "\n",
        "原文: 他已经完成了作业。\n",
        "参考: He has already finished his homework.\n",
        "翻译: He has done it.\n",
        "\n",
        "原文: 你叫什么名字？\n",
        "参考: What’s your name?\n",
        "翻译: What is your name?\n",
        "\n",
        "原文: 你会说英语吗？\n",
        "参考: Can you speak English?\n",
        "翻译: Can you speak English?\n",
        "\n",
        "原文: 明天你有空吗？\n",
        "参考: Are you free tomorrow?\n",
        "翻译: Can you have another tomorrow?\n",
        "\n",
        "原文: 虽然他很累，但他还是完成了工作。\n",
        "参考: Although he was tired, he still finished the work.\n",
        "翻译: He got angry, and he worked pretty well.\n",
        "\n",
        "原文: 如果天气好，我们就去爬山。\n",
        "参考: If the weather is good, we will go hiking.\n",
        "翻译: If we go to the weather, we're going to get good weather.\n",
        "\n",
        "原文: 我喜欢猫，因为它们很可爱。\n",
        "参考: I like cats because they are cute.\n",
        "翻译: I love cats, because they're cute.\n",
        "\n",
        "原文: 近年来，人工智能的发展改变了我们的生活方式。\n",
        "参考: In recent years, the development of artificial intelligence has changed our way of life.\n",
        "翻译: And over the years, behavior has changed our lifestyle.\n",
        "\n",
        "原文: 这个项目的目的是为了提高学生的英语口语能力。\n",
        "参考: The purpose of this project is to improve students’ spoken English skills.\n",
        "翻译: And the English medium focused on trying to express itself.\n",
        "\n",
        "原文: 在未来的十年里，气候变化可能成为全球面临的最大挑战之一。\n",
        "参考: In the next decade, climate change may become one of the greatest challenges the world faces.\n",
        "翻译: Many of the biggest challenges in the next decade will be the decade of climate change.\n",
        "\n",
        "原文: 他打了他一巴掌。\n",
        "参考: He slapped him.\n",
        "翻译: And he's following me over.\n",
        "\n",
        "原文: 我以为你不会来了。\n",
        "参考: I thought you wouldn’t come.\n",
        "翻译: I thought you're okay.\n",
        "\n",
        "原文: 我妈妈说我爸爸不在家。\n",
        "参考: My mom said my dad wasn't home.\n",
        "翻译: My mom says, \"No dad's not in my family.\n"
      ]
    },
    {
      "cell_type": "code",
      "execution_count": null,
      "metadata": {
        "id": "H56zymqtBJC0"
      },
      "outputs": [],
      "source": [
        "# # 保存模型到网盘\n",
        "# !cp transformer_translation.pt /content/drive/MyDrive/transformer_translation.pt\n",
        "# !cp best_model.pt /content/drive/MyDrive/best_model.pt"
      ]
    }
  ],
  "metadata": {
    "accelerator": "TPU",
    "colab": {
      "gpuType": "V28",
      "machine_shape": "hm",
      "provenance": [],
      "toc_visible": true
    },
    "kernelspec": {
      "display_name": "DL",
      "language": "python",
      "name": "python3"
    },
    "language_info": {
      "codemirror_mode": {
        "name": "ipython",
        "version": 3
      },
      "file_extension": ".py",
      "mimetype": "text/x-python",
      "name": "python",
      "nbconvert_exporter": "python",
      "pygments_lexer": "ipython3",
      "version": "3.11.11"
    }
  },
  "nbformat": 4,
  "nbformat_minor": 0
}
